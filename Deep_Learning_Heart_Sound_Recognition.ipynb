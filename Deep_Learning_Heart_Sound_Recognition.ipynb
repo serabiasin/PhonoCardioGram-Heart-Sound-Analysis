{
  "nbformat": 4,
  "nbformat_minor": 0,
  "metadata": {
    "colab": {
      "name": "Deep Learning Heart Sound Recognition",
      "provenance": [],
      "collapsed_sections": []
    },
    "kernelspec": {
      "name": "python3",
      "display_name": "Python 3"
    },
    "accelerator": "GPU"
  },
  "cells": [
    {
      "cell_type": "code",
      "metadata": {
        "id": "xSs9JmH3TGvs",
        "colab_type": "code",
        "outputId": "d87e404a-b630-47c2-9d65-ab06e0118dfd",
        "colab": {
          "base_uri": "https://localhost:8080/",
          "height": 34
        }
      },
      "source": [
        "#ke sso akun d3\n",
        "from google.colab import drive\n",
        "drive.mount('/content/drive')"
      ],
      "execution_count": 75,
      "outputs": [
        {
          "output_type": "stream",
          "text": [
            "Drive already mounted at /content/drive; to attempt to forcibly remount, call drive.mount(\"/content/drive\", force_remount=True).\n"
          ],
          "name": "stdout"
        }
      ]
    },
    {
      "cell_type": "code",
      "metadata": {
        "id": "Lah-KIAdhDhM",
        "colab_type": "code",
        "colab": {}
      },
      "source": [
        "import os\n",
        "import librosa\n",
        "import numpy as np\n",
        "import pywt\n",
        "from scipy import signal"
      ],
      "execution_count": 0,
      "outputs": []
    },
    {
      "cell_type": "code",
      "metadata": {
        "id": "apy8zuloELKz",
        "colab_type": "code",
        "colab": {}
      },
      "source": [
        "import tensorflow as tf, tensorflow.keras.backend as K\n",
        "import tensorflow_addons as tfa\n",
        "from sklearn.preprocessing import LabelEncoder\n",
        "from sklearn.decomposition import PCA\n",
        "from sklearn.metrics import f1_score, precision_score, recall_score, confusion_matrix"
      ],
      "execution_count": 0,
      "outputs": []
    },
    {
      "cell_type": "code",
      "metadata": {
        "id": "oI6yEpZDisNw",
        "colab_type": "code",
        "outputId": "6ad562dc-0d5c-4168-b286-cf92ac770323",
        "colab": {
          "base_uri": "https://localhost:8080/",
          "height": 34
        }
      },
      "source": [
        "\n",
        "\n",
        "DataTrain=\"/content/drive/My Drive/DataSetSuaraJantungPhysionet/Dataset/DatasetListTrain.txt\"\n",
        "DataTrainLabel=\"/content/drive/My Drive/DataSetSuaraJantungPhysionet/Dataset/DatasetLabelTrain.txt\"\n",
        "\n",
        "DataValidLabel=\"/content/drive/My Drive/DataSetSuaraJantungPhysionet/Dataset/DatasetLabelVal.txt\"\n",
        "DataVal=\"/content/drive/My Drive/DataSetSuaraJantungPhysionet/Dataset/DatasetListVal.txt\"\n",
        "\n",
        "#train\n",
        "\n",
        "g=open(DataTrainLabel, \"r\")\n",
        "\n",
        "preDataT=[]\n",
        "preLabelT=[]\n",
        "\n",
        "for x in g:\n",
        "  preLabelT.append(x.strip('\\n'))\n",
        "g.close()\n",
        "\n",
        "\n",
        "#validation\n",
        "\n",
        "preLabelV=[]\n",
        "\n",
        "a=open(DataValidLabel, \"r\")\n",
        "for x in a:\n",
        "  preLabelV.append(x.strip('\\n'))\n",
        "a.close()\n",
        "\n",
        "\n",
        "labelV=np.array(preLabelV)\n",
        "labelV=labelV.astype(int)\n",
        "\n",
        "labelT=np.array(preLabelT)\n",
        "labelT=labelT.astype(int)\n",
        "\n",
        "\n",
        "print(labelV.shape[0],labelT.shape[0])"
      ],
      "execution_count": 78,
      "outputs": [
        {
          "output_type": "stream",
          "text": [
            "301 3240\n"
          ],
          "name": "stdout"
        }
      ]
    },
    {
      "cell_type": "code",
      "metadata": {
        "id": "lBupB3ZCiX2n",
        "colab_type": "code",
        "colab": {
          "base_uri": "https://localhost:8080/",
          "height": 34
        },
        "outputId": "332bd975-975d-4eff-a0f5-845db74e5de6"
      },
      "source": [
        "dir_training=\"/content/drive/My Drive/DataSetSuaraJantungPhysionet/Dataset/eigenDataTrain.npy\"\n",
        "dir_validation=\"/content/drive/My Drive/DataSetSuaraJantungPhysionet/Dataset/eigenDataValid.npy\"\n",
        "\n",
        "dirlabel_t=\"/content/drive/My Drive/DataSetSuaraJantungPhysionet/Dataset/LABELTRAIN.npy\"\n",
        "dirlabel_v=\"/content/drive/My Drive/DataSetSuaraJantungPhysionet/Dataset/LABELVAL.npy\"\n",
        "\n",
        "\n",
        "training=np.load(dir_training)\n",
        "training=np.reshape(training,(-1,130,100,1))\n",
        "label_t=np.load(dirlabel_t)\n",
        "\n",
        "validation=np.load(dir_validation)\n",
        "validation=np.reshape(validation,(-1,130,100,1))\n",
        "label_v=np.load(dirlabel_v)\n",
        "\n",
        "print(validation.shape)"
      ],
      "execution_count": 79,
      "outputs": [
        {
          "output_type": "stream",
          "text": [
            "(301, 130, 100, 1)\n"
          ],
          "name": "stdout"
        }
      ]
    },
    {
      "cell_type": "code",
      "metadata": {
        "id": "qdYEwtvhjynO",
        "colab_type": "code",
        "colab": {}
      },
      "source": [
        "dataSize=[130, 100]\n",
        "EPOCHS=15\n",
        "BATCH_SIZE = 32\n",
        "\n",
        "CLASSES=['Tidak Normal','Normal']       "
      ],
      "execution_count": 0,
      "outputs": []
    },
    {
      "cell_type": "code",
      "metadata": {
        "id": "DugedCJ2laP6",
        "colab_type": "code",
        "colab": {}
      },
      "source": [
        "#learning rate scheduler\n",
        "\n",
        "LR_START = 0.0001\n",
        "LR_MAX =  0.00005 \n",
        "LR_MIN = 0.00001\n",
        "LR_RAMPUP_EPOCHS = 4\n",
        "LR_SUSTAIN_EPOCHS = 6\n",
        "LR_EXP_DECAY = .8\n",
        "\n",
        "def lrfn(epoch):\n",
        "    if epoch < LR_RAMPUP_EPOCHS:\n",
        "        lr = np.random.random_sample() * LR_START\n",
        "    elif epoch < LR_RAMPUP_EPOCHS + LR_SUSTAIN_EPOCHS:\n",
        "        lr = LR_MAX\n",
        "    else:\n",
        "        lr = (LR_MAX - LR_MIN) * LR_EXP_DECAY**(epoch - LR_RAMPUP_EPOCHS - LR_SUSTAIN_EPOCHS) + LR_MIN\n",
        "    return lr\n",
        "    \n",
        "lr_callback = tf.keras.callbacks.LearningRateScheduler(lrfn, verbose=True)"
      ],
      "execution_count": 0,
      "outputs": []
    },
    {
      "cell_type": "code",
      "metadata": {
        "id": "RyAEBHTnFb-F",
        "colab_type": "code",
        "colab": {}
      },
      "source": [
        "# import efficientnet.keras as efn \n",
        "\n",
        "pretrained_model=tf.keras.applications.resnet_v2.ResNet50V2(include_top=False, weights=None,  input_shape=[*dataSize, 1])\n",
        "pretrained_model.trainable = True # False = transfer learning, True = fine-tuning\n",
        "      \n",
        "model = tf.keras.Sequential([\n",
        "          pretrained_model,\n",
        "          tf.keras.layers.Dropout(0.35),\n",
        "          tf.keras.layers.GlobalAveragePooling2D(),\n",
        "          tf.keras.layers.Flatten(),\n",
        "          tf.keras.layers.Dense(1, activation='sigmoid')\n",
        "      ])"
      ],
      "execution_count": 0,
      "outputs": []
    },
    {
      "cell_type": "code",
      "metadata": {
        "id": "uLC5s98aMhO4",
        "colab_type": "code",
        "outputId": "433a2074-9407-43ee-aed3-50f5c0200927",
        "colab": {
          "base_uri": "https://localhost:8080/",
          "height": 323
        }
      },
      "source": [
        "model.summary()"
      ],
      "execution_count": 83,
      "outputs": [
        {
          "output_type": "stream",
          "text": [
            "Model: \"sequential_3\"\n",
            "_________________________________________________________________\n",
            "Layer (type)                 Output Shape              Param #   \n",
            "=================================================================\n",
            "resnet50v2 (Model)           (None, 5, 4, 2048)        23558528  \n",
            "_________________________________________________________________\n",
            "dropout_4 (Dropout)          (None, 5, 4, 2048)        0         \n",
            "_________________________________________________________________\n",
            "global_average_pooling2d_4 ( (None, 2048)              0         \n",
            "_________________________________________________________________\n",
            "flatten_1 (Flatten)          (None, 2048)              0         \n",
            "_________________________________________________________________\n",
            "dense_3 (Dense)              (None, 1)                 2049      \n",
            "=================================================================\n",
            "Total params: 23,560,577\n",
            "Trainable params: 23,515,137\n",
            "Non-trainable params: 45,440\n",
            "_________________________________________________________________\n"
          ],
          "name": "stdout"
        }
      ]
    },
    {
      "cell_type": "code",
      "metadata": {
        "id": "PXftWvMRlGVu",
        "colab_type": "code",
        "colab": {}
      },
      "source": [
        "radam = tfa.optimizers.RectifiedAdam()\n",
        "\n",
        "model.compile(\n",
        "    # optimizer='adam',\n",
        "    optimizer= tfa.optimizers.Lookahead(radam, sync_period=6, slow_step_size=0.55),\n",
        "    loss = 'binary_crossentropy',\n",
        "    metrics=['accuracy']\n",
        ")"
      ],
      "execution_count": 0,
      "outputs": []
    },
    {
      "cell_type": "code",
      "metadata": {
        "id": "9TZ3lR3ucSpb",
        "colab_type": "code",
        "colab": {
          "base_uri": "https://localhost:8080/",
          "height": 1000
        },
        "outputId": "92cd910a-7003-4253-999d-4fee154cc0b5"
      },
      "source": [
        "\n",
        "model.fit( x=training,y=label_t,validation_data=(validation,label_v), epochs=EPOCHS,callbacks=[lr_callback],\n",
        "          use_multiprocessing=False)"
      ],
      "execution_count": 85,
      "outputs": [
        {
          "output_type": "stream",
          "text": [
            "\n",
            "Epoch 00001: LearningRateScheduler reducing learning rate to 6.995472063421296e-05.\n",
            "Epoch 1/15\n",
            "102/102 [==============================] - 17s 165ms/step - loss: 0.5787 - accuracy: 0.6716 - val_loss: 0.6993 - val_accuracy: 0.4983 - lr: 6.9955e-05\n",
            "\n",
            "Epoch 00002: LearningRateScheduler reducing learning rate to 2.9884230447591155e-05.\n",
            "Epoch 2/15\n",
            "102/102 [==============================] - 16s 157ms/step - loss: 0.3859 - accuracy: 0.8540 - val_loss: 0.8206 - val_accuracy: 0.4983 - lr: 2.9884e-05\n",
            "\n",
            "Epoch 00003: LearningRateScheduler reducing learning rate to 6.548809111671015e-05.\n",
            "Epoch 3/15\n",
            "102/102 [==============================] - 16s 161ms/step - loss: 0.3342 - accuracy: 0.8673 - val_loss: 0.8384 - val_accuracy: 0.5316 - lr: 6.5488e-05\n",
            "\n",
            "Epoch 00004: LearningRateScheduler reducing learning rate to 1.7506586686338422e-06.\n",
            "Epoch 4/15\n",
            "102/102 [==============================] - 16s 160ms/step - loss: 0.2960 - accuracy: 0.8824 - val_loss: 0.6512 - val_accuracy: 0.6545 - lr: 1.7507e-06\n",
            "\n",
            "Epoch 00005: LearningRateScheduler reducing learning rate to 5e-05.\n",
            "Epoch 5/15\n",
            "102/102 [==============================] - 16s 158ms/step - loss: 0.2988 - accuracy: 0.8769 - val_loss: 0.6234 - val_accuracy: 0.6777 - lr: 5.0000e-05\n",
            "\n",
            "Epoch 00006: LearningRateScheduler reducing learning rate to 5e-05.\n",
            "Epoch 6/15\n",
            "102/102 [==============================] - 16s 157ms/step - loss: 0.2723 - accuracy: 0.8914 - val_loss: 0.3751 - val_accuracy: 0.8239 - lr: 5.0000e-05\n",
            "\n",
            "Epoch 00007: LearningRateScheduler reducing learning rate to 5e-05.\n",
            "Epoch 7/15\n",
            "102/102 [==============================] - 16s 157ms/step - loss: 0.2464 - accuracy: 0.9043 - val_loss: 0.4876 - val_accuracy: 0.7542 - lr: 5.0000e-05\n",
            "\n",
            "Epoch 00008: LearningRateScheduler reducing learning rate to 5e-05.\n",
            "Epoch 8/15\n",
            "102/102 [==============================] - 16s 157ms/step - loss: 0.2230 - accuracy: 0.9130 - val_loss: 0.5659 - val_accuracy: 0.7741 - lr: 5.0000e-05\n",
            "\n",
            "Epoch 00009: LearningRateScheduler reducing learning rate to 5e-05.\n",
            "Epoch 9/15\n",
            "102/102 [==============================] - 16s 158ms/step - loss: 0.2019 - accuracy: 0.9231 - val_loss: 0.3460 - val_accuracy: 0.8372 - lr: 5.0000e-05\n",
            "\n",
            "Epoch 00010: LearningRateScheduler reducing learning rate to 5e-05.\n",
            "Epoch 10/15\n",
            "102/102 [==============================] - 16s 156ms/step - loss: 0.1974 - accuracy: 0.9231 - val_loss: 0.2306 - val_accuracy: 0.8970 - lr: 5.0000e-05\n",
            "\n",
            "Epoch 00011: LearningRateScheduler reducing learning rate to 5e-05.\n",
            "Epoch 11/15\n",
            "102/102 [==============================] - 16s 157ms/step - loss: 0.1800 - accuracy: 0.9333 - val_loss: 0.2424 - val_accuracy: 0.9037 - lr: 5.0000e-05\n",
            "\n",
            "Epoch 00012: LearningRateScheduler reducing learning rate to 4.2000000000000004e-05.\n",
            "Epoch 12/15\n",
            "102/102 [==============================] - 16s 158ms/step - loss: 0.1380 - accuracy: 0.9478 - val_loss: 0.1979 - val_accuracy: 0.9203 - lr: 4.2000e-05\n",
            "\n",
            "Epoch 00013: LearningRateScheduler reducing learning rate to 3.5600000000000005e-05.\n",
            "Epoch 13/15\n",
            "102/102 [==============================] - 16s 157ms/step - loss: 0.1032 - accuracy: 0.9614 - val_loss: 0.1538 - val_accuracy: 0.9336 - lr: 3.5600e-05\n",
            "\n",
            "Epoch 00014: LearningRateScheduler reducing learning rate to 3.0480000000000006e-05.\n",
            "Epoch 14/15\n",
            "102/102 [==============================] - 16s 158ms/step - loss: 0.0838 - accuracy: 0.9673 - val_loss: 0.0726 - val_accuracy: 0.9867 - lr: 3.0480e-05\n",
            "\n",
            "Epoch 00015: LearningRateScheduler reducing learning rate to 2.6384000000000004e-05.\n",
            "Epoch 15/15\n",
            "102/102 [==============================] - 16s 155ms/step - loss: 0.0691 - accuracy: 0.9775 - val_loss: 0.0909 - val_accuracy: 0.9601 - lr: 2.6384e-05\n"
          ],
          "name": "stdout"
        },
        {
          "output_type": "execute_result",
          "data": {
            "text/plain": [
              "<tensorflow.python.keras.callbacks.History at 0x7facce85d978>"
            ]
          },
          "metadata": {
            "tags": []
          },
          "execution_count": 85
        }
      ]
    },
    {
      "cell_type": "code",
      "metadata": {
        "id": "5VX3es34Iom6",
        "colab_type": "code",
        "colab": {}
      },
      "source": [
        "#1 normal\n",
        "#0 tidak normal\n",
        "Xnew = model.predict_classes(validation)\n",
        "for i in range(len(Xnew)):\n",
        "\tprint(\"X=%s, Predicted=%s\" % (label_v[i], Xnew[i]))"
      ],
      "execution_count": 0,
      "outputs": []
    },
    {
      "cell_type": "code",
      "metadata": {
        "id": "cAqtsXEdo_mW",
        "colab_type": "code",
        "colab": {
          "base_uri": "https://localhost:8080/",
          "height": 85
        },
        "outputId": "9bf6958d-1370-48cc-aae5-abae198ece32"
      },
      "source": [
        "\"\"\"Confusion Matrix, For Model Benchmark\"\"\"\n",
        "yPredict = model.predict_classes(validation)\n",
        "yPredict=np.transpose(yPredict)\n",
        "yPredict=yPredict.flatten()\n",
        "\n",
        "print(\"Predicted Label: \",yPredict[:20])\n",
        "print(\"Correct Label: \",label_v[:20])\n",
        "\n",
        "cmatrix= confusion_matrix(label_v, yPredict, labels=[0,1])\n",
        "print(cmatrix)"
      ],
      "execution_count": 144,
      "outputs": [
        {
          "output_type": "stream",
          "text": [
            "Predicted Label:  [1 1 1 1 1 1 0 1 0 1 0 0 1 1 1 0 1 1 0 1]\n",
            "Correct Label:  [1 1 1 1 1 1 0 1 0 1 0 0 1 1 1 0 1 1 0 1]\n",
            "[[150   0]\n",
            " [ 12 139]]\n"
          ],
          "name": "stdout"
        }
      ]
    },
    {
      "cell_type": "code",
      "metadata": {
        "id": "p__iZZJYWZ0B",
        "colab_type": "code",
        "colab": {
          "base_uri": "https://localhost:8080/",
          "height": 34
        },
        "outputId": "89f320e3-b6e1-4d15-873c-2cbe34762fd0"
      },
      "source": [
        "#metric\n",
        "score = f1_score(label_v, yPredict, labels=[0,1], average='macro')\n",
        "precision = precision_score(label_v, yPredict,  labels=[0,1], average='macro')\n",
        "recall = recall_score(label_v, yPredict,  labels=[0,1], average='macro')\n",
        "cmat = (cmat.T / cmat.sum(axis=1)).T # normalized\n",
        "\n",
        "print('f1 score: {:.3f}, precision: {:.3f}, recall: {:.3f}'.format(score, precision, recall))"
      ],
      "execution_count": 130,
      "outputs": [
        {
          "output_type": "stream",
          "text": [
            "f1 score: 0.960, precision: 0.963, recall: 0.960\n"
          ],
          "name": "stdout"
        }
      ]
    },
    {
      "cell_type": "code",
      "metadata": {
        "id": "9ClfXP6Vcjj4",
        "colab_type": "code",
        "colab": {
          "base_uri": "https://localhost:8080/",
          "height": 315
        },
        "outputId": "7dffd912-74dd-4d2b-8c5c-f49ab09f91a0"
      },
      "source": [
        "#visual confusion matrix\n",
        "import seaborn as sns\n",
        "import matplotlib.pyplot as plt     \n",
        "\n",
        "ax= plt.subplot()\n",
        "sns.heatmap(cmat,cmap='Greens', annot=True, ax = ax); #annot=True to annotate cells\n",
        "\n",
        "# labels, title and ticks\n",
        "ax.set_xlabel('Predicted labels');\n",
        "ax.set_ylabel('True labels'); \n",
        "ax.set_title('Confusion Matrix'); \n",
        "ax.xaxis.set_ticklabels(['Tidak Normal', 'Normal']); \n",
        "ax.yaxis.set_ticklabels(['Normal', 'Tidak Normal']);"
      ],
      "execution_count": 145,
      "outputs": [
        {
          "output_type": "display_data",
          "data": {
            "image/png": "[encoded data removed]",
            "text/plain": [
              "<Figure size 432x288 with 2 Axes>"
            ]
          },
          "metadata": {
            "tags": []
          }
        }
      ]
    }
  ]
}