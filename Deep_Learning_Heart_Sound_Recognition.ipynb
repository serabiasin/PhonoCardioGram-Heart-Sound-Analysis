{
  "nbformat": 4,
  "nbformat_minor": 0,
  "metadata": {
    "colab": {
      "name": "Deep Learning Heart Sound Recognition",
      "provenance": [],
      "collapsed_sections": [],
      "toc_visible": true
    },
    "kernelspec": {
      "name": "python3",
      "display_name": "Python 3"
    },
    "accelerator": "GPU"
  },
  "cells": [
    {
      "cell_type": "markdown",
      "metadata": {
        "id": "xZJl7Mnlzwhl"
      },
      "source": [
        "# Connect To Google Drive "
      ]
    },
    {
      "cell_type": "code",
      "metadata": {
        "id": "xSs9JmH3TGvs",
        "colab": {
          "base_uri": "https://localhost:8080/"
        },
        "outputId": "8d99b857-e977-4d14-b80c-09bb0b5c7e2c"
      },
      "source": [
        "from google.colab import drive\n",
        "drive.mount('/content/drive')"
      ],
      "execution_count": 1,
      "outputs": [
        {
          "output_type": "stream",
          "text": [
            "Mounted at /content/drive\n"
          ],
          "name": "stdout"
        }
      ]
    },
    {
      "cell_type": "markdown",
      "metadata": {
        "id": "8q-xwzBbjB3f"
      },
      "source": [
        "# **REFERENCES**\n",
        "\n",
        "\n",
        "*   https://www.sciencedirect.com/science/article/pii/B9780128190616000069\n",
        "*   https://sci-hub.tw/https://doi.org/10.3109/03091909309006329\n",
        "*   http://cinc.org/archives/2003/pdf/323.pdf\n",
        "*   https://ieeexplore.ieee.org/document/5738061\n",
        "*   https://classeval.wordpress.com/introduction/basic-evaluation-measures/\n",
        "\n",
        "\n",
        "\n",
        "\n",
        "\n"
      ]
    },
    {
      "cell_type": "markdown",
      "metadata": {
        "id": "HrWhi7GBz5o9"
      },
      "source": [
        "# Pre-Load Library"
      ]
    },
    {
      "cell_type": "code",
      "metadata": {
        "id": "Lah-KIAdhDhM"
      },
      "source": [
        "import os\n",
        "import librosa\n",
        "import numpy as np\n",
        "import pywt\n",
        "from scipy import signal\n",
        "import seaborn as sns\n",
        "import matplotlib.pyplot as plt   "
      ],
      "execution_count": 2,
      "outputs": []
    },
    {
      "cell_type": "code",
      "metadata": {
        "id": "apy8zuloELKz"
      },
      "source": [
        "import tensorflow as tf, tensorflow.keras.backend as K\n",
        "import tensorflow_addons as tfa\n",
        "from sklearn.preprocessing import LabelEncoder\n",
        "from sklearn.decomposition import PCA\n",
        "from sklearn.metrics import f1_score, precision_score, recall_score, confusion_matrix"
      ],
      "execution_count": 3,
      "outputs": []
    },
    {
      "cell_type": "markdown",
      "metadata": {
        "id": "Hrd_3Qfvz9kI"
      },
      "source": [
        "# Prepare Dataset"
      ]
    },
    {
      "cell_type": "markdown",
      "metadata": {
        "id": "bz_lroEJbNdr"
      },
      "source": [
        "IN THIS SECTION, THIS IS A FILE DIRECTORY REGARDED TO A DATASET THAT HAS BEEN TRANSFORM INTO PRINCIPAL COMPONENTS ANALYSIS MATRICES"
      ]
    },
    {
      "cell_type": "code",
      "metadata": {
        "id": "lBupB3ZCiX2n"
      },
      "source": [
        "dirlabel_t=\"/content/drive/My Drive/DataSetSuaraJantungPhysionet/Dataset/LABELTRAIN.npy\"\n",
        "dirlabel_v=\"/content/drive/My Drive/DataSetSuaraJantungPhysionet/Dataset/LABELVAL.npy\"\n",
        "\n",
        "#Training and Validation\n",
        "matrices_datasetTV=['/content/drive/My Drive/DataSetSuaraJantungPhysionet/Dataset/eigenDataTrain100percent.npy',\n",
        "                    '/content/drive/My Drive/DataSetSuaraJantungPhysionet/Dataset/eigenDataTrain75percent.npy',\n",
        "                    '/content/drive/My Drive/DataSetSuaraJantungPhysionet/Dataset/eigenDataTrain50percent.npy',\n",
        "                    '/content/drive/My Drive/DataSetSuaraJantungPhysionet/Dataset/eigenDataTrain25percent.npy'] \n",
        "\n",
        "#test Set\n",
        "matrices_datasetTest=['/content/drive/My Drive/DataSetSuaraJantungPhysionet/Dataset/eigenDataValid100percent.npy',\n",
        "                      '/content/drive/My Drive/DataSetSuaraJantungPhysionet/Dataset/eigenDataValid75percent.npy',\n",
        "                      '/content/drive/My Drive/DataSetSuaraJantungPhysionet/Dataset/eigenDataValid50percent.npy',\n",
        "                      '/content/drive/My Drive/DataSetSuaraJantungPhysionet/Dataset/eigenDataValid25percent.npy'] \n"
      ],
      "execution_count": 4,
      "outputs": []
    },
    {
      "cell_type": "markdown",
      "metadata": {
        "id": "7qZPlY7cbPo1"
      },
      "source": [
        "THIS IS AN INDEX MATRICES FOR WHAT DIMENSION DATASET THAT WOULD BE USED"
      ]
    },
    {
      "cell_type": "code",
      "metadata": {
        "id": "BHg5X-pX6LlH"
      },
      "source": [
        "opsi=0 #pilih persentasi feature dataset (misal, opsi= 100% feature penting)"
      ],
      "execution_count": 5,
      "outputs": []
    },
    {
      "cell_type": "markdown",
      "metadata": {
        "id": "Cp_MXyD0bSH8"
      },
      "source": [
        "IN THIS CODE, WHERE PREPARATION OF DATASET BEGIN. SPLITTING THE DATASET AND RESHAPE THE SHAPE OF MATRICES TO BE FITTED TO NEURAL NETWORK"
      ]
    },
    {
      "cell_type": "code",
      "metadata": {
        "id": "A0q4XwoFx2ST",
        "colab": {
          "base_uri": "https://localhost:8080/"
        },
        "outputId": "c00df6d6-d28c-48c6-c7f7-4041edc3548d"
      },
      "source": [
        "from sklearn.model_selection import train_test_split\n",
        "\n",
        "trainvalSet=np.load(matrices_datasetTV[opsi]) #training dan validasi (akan di split nanti)\n",
        "testSet=np.load(matrices_datasetTest[opsi]) #menjadi test set\n",
        "\n",
        "trainvalSet=np.reshape(trainvalSet,(-1,trainvalSet.shape[1],trainvalSet.shape[2],1))\n",
        "testSet=np.reshape(testSet,(-1,testSet.shape[1],testSet.shape[2],1))\n",
        "\n",
        "label_train=np.load(dirlabel_t)\n",
        "label_test=np.load(dirlabel_v)\n",
        "\n",
        "\n",
        "X_train, validation, y_train, label_v = train_test_split(trainvalSet, label_train, test_size=0.2,random_state=42)\n",
        "\n",
        "print(X_train.shape,validation.shape)\n",
        "\n",
        "#To see the distribution data of each classes\n",
        "print(np.array(np.where(y_train == 0)).shape,np.array(np.where(y_train == 1)).shape)\n",
        "print(np.array(np.where(label_v == 0)).shape,np.array(np.where(label_v == 1)).shape)"
      ],
      "execution_count": 6,
      "outputs": [
        {
          "output_type": "stream",
          "text": [
            "(2592, 130, 130, 1) (648, 130, 130, 1)\n",
            "(1, 2064) (1, 528)\n",
            "(1, 511) (1, 137)\n"
          ],
          "name": "stdout"
        }
      ]
    },
    {
      "cell_type": "markdown",
      "metadata": {
        "id": "yjjQL5hJbVaT"
      },
      "source": [
        "# Utility Function"
      ]
    },
    {
      "cell_type": "code",
      "metadata": {
        "id": "9kGNFHp9phWN"
      },
      "source": [
        "def display_training_curves(training, validation, title, subplot):\n",
        "    if subplot%10==1: # set up the subplots on the first call\n",
        "        plt.subplots(figsize=(10,10), facecolor='#F0F0F0')\n",
        "        plt.tight_layout()\n",
        "    ax = plt.subplot(subplot)\n",
        "    ax.set_facecolor('#F8F8F8')\n",
        "    ax.plot(training)\n",
        "    ax.plot(validation)\n",
        "    ax.set_title('model '+ title)\n",
        "    ax.set_ylabel(title)\n",
        "    #ax.set_ylim(0.28,1.05)\n",
        "    ax.set_xlabel('epoch')\n",
        "    ax.legend(['train', 'valid.'])"
      ],
      "execution_count": 7,
      "outputs": []
    },
    {
      "cell_type": "markdown",
      "metadata": {
        "id": "hII_HPJY0CtH"
      },
      "source": [
        "# Tuning Hyperparameter"
      ]
    },
    {
      "cell_type": "code",
      "metadata": {
        "id": "qdYEwtvhjynO"
      },
      "source": [
        "dataSize=[trainvalSet.shape[1],trainvalSet.shape[2]]\n",
        "EPOCHS=13\n",
        "BATCH_SIZE = 32\n",
        "\n",
        "CLASSES=['Not Normal','Normal']       "
      ],
      "execution_count": 8,
      "outputs": []
    },
    {
      "cell_type": "code",
      "metadata": {
        "id": "DugedCJ2laP6"
      },
      "source": [
        "#learning rate scheduler\n",
        "\n",
        "LR_START = 0.0001\n",
        "LR_MAX =  0.000015\n",
        "LR_MIN = 0.00001\n",
        "LR_RAMPUP_EPOCHS = 4\n",
        "LR_SUSTAIN_EPOCHS = 7\n",
        "LR_EXP_DECAY = .8\n",
        "\n",
        "def lrfn(epoch):\n",
        "    if epoch < LR_RAMPUP_EPOCHS:\n",
        "        lr = np.random.random_sample() * LR_START\n",
        "    elif epoch < LR_RAMPUP_EPOCHS + LR_SUSTAIN_EPOCHS:\n",
        "        lr = LR_MAX\n",
        "    else:\n",
        "        lr = (LR_MAX - LR_MIN) * LR_EXP_DECAY**(epoch - LR_RAMPUP_EPOCHS - LR_SUSTAIN_EPOCHS) + LR_MIN\n",
        "    return lr\n",
        "    \n",
        "lr_callback = tf.keras.callbacks.LearningRateScheduler(lrfn, verbose=True)"
      ],
      "execution_count": 10,
      "outputs": []
    },
    {
      "cell_type": "code",
      "metadata": {
        "id": "RyAEBHTnFb-F"
      },
      "source": [
        "pretrained_model=tf.keras.applications.resnet_v2.ResNet50V2(include_top=False, weights=None,  input_shape=[*dataSize, 1])\n",
        "pretrained_model.trainable = True # False = transfer learning, True = fine-tuning      \n",
        "\n",
        "model = tf.keras.Sequential([\n",
        "          pretrained_model,\n",
        "          tf.keras.layers.Dropout(0.15),\n",
        "          tf.keras.layers.GlobalAveragePooling2D(),\n",
        "          tf.keras.layers.Flatten(),\n",
        "          tf.keras.layers.Dense(1, activation='sigmoid')\n",
        "      ])"
      ],
      "execution_count": 11,
      "outputs": []
    },
    {
      "cell_type": "code",
      "metadata": {
        "id": "uLC5s98aMhO4",
        "colab": {
          "base_uri": "https://localhost:8080/",
          "height": 323
        },
        "outputId": "551ca7f8-2eef-45e1-f029-1996297ba674"
      },
      "source": [
        "model.summary()"
      ],
      "execution_count": null,
      "outputs": [
        {
          "output_type": "stream",
          "text": [
            "Model: \"sequential\"\n",
            "_________________________________________________________________\n",
            "Layer (type)                 Output Shape              Param #   \n",
            "=================================================================\n",
            "resnet50v2 (Model)           (None, 5, 5, 2048)        23558528  \n",
            "_________________________________________________________________\n",
            "dropout (Dropout)            (None, 5, 5, 2048)        0         \n",
            "_________________________________________________________________\n",
            "global_average_pooling2d (Gl (None, 2048)              0         \n",
            "_________________________________________________________________\n",
            "flatten (Flatten)            (None, 2048)              0         \n",
            "_________________________________________________________________\n",
            "dense (Dense)                (None, 1)                 2049      \n",
            "=================================================================\n",
            "Total params: 23,560,577\n",
            "Trainable params: 23,515,137\n",
            "Non-trainable params: 45,440\n",
            "_________________________________________________________________\n"
          ],
          "name": "stdout"
        }
      ]
    },
    {
      "cell_type": "code",
      "metadata": {
        "id": "PXftWvMRlGVu"
      },
      "source": [
        "radam = tfa.optimizers.RectifiedAdam()\n",
        "\n",
        "model.compile(\n",
        "    # optimizer='adam',\n",
        "    optimizer= tfa.optimizers.Lookahead(radam, sync_period=4, slow_step_size=0.35),\n",
        "    loss = 'binary_crossentropy',\n",
        "    metrics=['accuracy']\n",
        ")"
      ],
      "execution_count": 12,
      "outputs": []
    },
    {
      "cell_type": "markdown",
      "metadata": {
        "id": "m1Bwvq5p0Gez"
      },
      "source": [
        "# Training"
      ]
    },
    {
      "cell_type": "code",
      "metadata": {
        "id": "9TZ3lR3ucSpb",
        "colab": {
          "base_uri": "https://localhost:8080/"
        },
        "outputId": "835cd3c3-b581-4c80-ca8e-8b7f57edf048"
      },
      "source": [
        "\n",
        "class_weight = {0: 0.70,\n",
        "                1: 1.955}\n",
        "\n",
        "history=model.fit( x=X_train,y=y_train,validation_data=(validation,label_v),\n",
        "          epochs=EPOCHS,callbacks=[lr_callback],\n",
        "          class_weight=class_weight,\n",
        "          use_multiprocessing=False\n",
        "          )"
      ],
      "execution_count": 13,
      "outputs": [
        {
          "output_type": "stream",
          "text": [
            "Epoch 1/13\n",
            "\n",
            "Epoch 00001: LearningRateScheduler reducing learning rate to 1.866874820701082e-05.\n",
            "81/81 [==============================] - 65s 203ms/step - loss: 0.7138 - accuracy: 0.3527 - val_loss: 0.7253 - val_accuracy: 0.2160\n",
            "Epoch 2/13\n",
            "\n",
            "Epoch 00002: LearningRateScheduler reducing learning rate to 2.669161606950121e-06.\n",
            "81/81 [==============================] - 15s 189ms/step - loss: 0.5973 - accuracy: 0.7022 - val_loss: 0.6314 - val_accuracy: 0.7469\n",
            "Epoch 3/13\n",
            "\n",
            "Epoch 00003: LearningRateScheduler reducing learning rate to 7.150832206231348e-05.\n",
            "81/81 [==============================] - 16s 192ms/step - loss: 0.5037 - accuracy: 0.7605 - val_loss: 0.4679 - val_accuracy: 0.8256\n",
            "Epoch 4/13\n",
            "\n",
            "Epoch 00004: LearningRateScheduler reducing learning rate to 9.722433197056137e-05.\n",
            "81/81 [==============================] - 16s 193ms/step - loss: 0.4025 - accuracy: 0.8546 - val_loss: 0.3856 - val_accuracy: 0.8503\n",
            "Epoch 5/13\n",
            "\n",
            "Epoch 00005: LearningRateScheduler reducing learning rate to 1.5e-05.\n",
            "81/81 [==============================] - 16s 195ms/step - loss: 0.3443 - accuracy: 0.8699 - val_loss: 0.3701 - val_accuracy: 0.8580\n",
            "Epoch 6/13\n",
            "\n",
            "Epoch 00006: LearningRateScheduler reducing learning rate to 1.5e-05.\n",
            "81/81 [==============================] - 16s 192ms/step - loss: 0.3556 - accuracy: 0.8731 - val_loss: 0.3688 - val_accuracy: 0.8488\n",
            "Epoch 7/13\n",
            "\n",
            "Epoch 00007: LearningRateScheduler reducing learning rate to 1.5e-05.\n",
            "81/81 [==============================] - 15s 190ms/step - loss: 0.3268 - accuracy: 0.8785 - val_loss: 0.3972 - val_accuracy: 0.8225\n",
            "Epoch 8/13\n",
            "\n",
            "Epoch 00008: LearningRateScheduler reducing learning rate to 1.5e-05.\n",
            "81/81 [==============================] - 16s 192ms/step - loss: 0.3095 - accuracy: 0.8809 - val_loss: 0.3678 - val_accuracy: 0.8380\n",
            "Epoch 9/13\n",
            "\n",
            "Epoch 00009: LearningRateScheduler reducing learning rate to 1.5e-05.\n",
            "81/81 [==============================] - 15s 190ms/step - loss: 0.2818 - accuracy: 0.8976 - val_loss: 0.3500 - val_accuracy: 0.8549\n",
            "Epoch 10/13\n",
            "\n",
            "Epoch 00010: LearningRateScheduler reducing learning rate to 1.5e-05.\n",
            "81/81 [==============================] - 16s 192ms/step - loss: 0.2721 - accuracy: 0.9017 - val_loss: 0.3623 - val_accuracy: 0.8426\n",
            "Epoch 11/13\n",
            "\n",
            "Epoch 00011: LearningRateScheduler reducing learning rate to 1.5e-05.\n",
            "81/81 [==============================] - 16s 192ms/step - loss: 0.2464 - accuracy: 0.9170 - val_loss: 0.3445 - val_accuracy: 0.8580\n",
            "Epoch 12/13\n",
            "\n",
            "Epoch 00012: LearningRateScheduler reducing learning rate to 1.5e-05.\n",
            "81/81 [==============================] - 15s 190ms/step - loss: 0.2303 - accuracy: 0.9245 - val_loss: 0.3521 - val_accuracy: 0.8441\n",
            "Epoch 13/13\n",
            "\n",
            "Epoch 00013: LearningRateScheduler reducing learning rate to 1.4000000000000001e-05.\n",
            "81/81 [==============================] - 15s 190ms/step - loss: 0.1944 - accuracy: 0.9384 - val_loss: 0.3852 - val_accuracy: 0.8318\n"
          ],
          "name": "stdout"
        }
      ]
    },
    {
      "cell_type": "code",
      "metadata": {
        "id": "vOwwtaBYN3u7",
        "colab": {
          "base_uri": "https://localhost:8080/",
          "height": 755
        },
        "outputId": "b0fb36ee-0f5c-438c-aed8-f4b5d2c149e8"
      },
      "source": [
        "\n",
        "\n",
        "display_training_curves(history.history['loss'], history.history['val_loss'], 'loss', 211)\n",
        "display_training_curves(history.history['accuracy'], history.history['val_accuracy'], 'accuracy', 212)\n",
        "\n"
      ],
      "execution_count": 14,
      "outputs": [
        {
          "output_type": "display_data",
          "data": {
            "image/png": "[encoded data removed]",
            "text/plain": [
              "<Figure size 720x720 with 2 Axes>"
            ]
          },
          "metadata": {
            "tags": []
          }
        }
      ]
    },
    {
      "cell_type": "markdown",
      "metadata": {
        "id": "u78TpXrN0JjL"
      },
      "source": [
        "# Metric Model"
      ]
    },
    {
      "cell_type": "code",
      "metadata": {
        "id": "cAqtsXEdo_mW",
        "colab": {
          "base_uri": "https://localhost:8080/"
        },
        "outputId": "25968180-6f68-4aad-ef29-dbfb38607d2c"
      },
      "source": [
        "\"\"\"Confusion Matrix, For Model Benchmark\"\"\"\n",
        "yPredict = model.predict_classes(testSet)\n",
        "yPredict=np.transpose(yPredict)\n",
        "yPredict=yPredict.flatten()\n",
        "\n",
        "print(\"Predicted Label: \",yPredict[:20])\n",
        "print(\"Correct Label: \",label_test[:20])\n",
        "\n",
        "cmatrix= confusion_matrix(label_test, yPredict, labels=[0,1])\n",
        "print(cmatrix)"
      ],
      "execution_count": 15,
      "outputs": [
        {
          "output_type": "stream",
          "text": [
            "/usr/local/lib/python3.6/dist-packages/tensorflow/python/keras/engine/sequential.py:450: UserWarning: `model.predict_classes()` is deprecated and will be removed after 2021-01-01. Please use instead:* `np.argmax(model.predict(x), axis=-1)`,   if your model does multi-class classification   (e.g. if it uses a `softmax` last-layer activation).* `(model.predict(x) > 0.5).astype(\"int32\")`,   if your model does binary classification   (e.g. if it uses a `sigmoid` last-layer activation).\n",
            "  warnings.warn('`model.predict_classes()` is deprecated and '\n"
          ],
          "name": "stderr"
        },
        {
          "output_type": "stream",
          "text": [
            "Predicted Label:  [1 1 1 1 1 1 0 1 0 1 0 0 1 1 1 1 0 0 1 1]\n",
            "Correct Label:  [1 1 1 1 1 1 0 1 0 1 0 0 1 1 1 0 1 1 0 1]\n",
            "[[136  14]\n",
            " [ 19 132]]\n"
          ],
          "name": "stdout"
        }
      ]
    },
    {
      "cell_type": "code",
      "metadata": {
        "id": "p__iZZJYWZ0B",
        "colab": {
          "base_uri": "https://localhost:8080/"
        },
        "outputId": "78af9ecf-1ed1-4e0b-eacd-447efc127c86"
      },
      "source": [
        "#metric\n",
        "score = f1_score(label_test, yPredict, labels=[0,1], average='macro')\n",
        "precision = precision_score(label_test, yPredict,  labels=[0,1], average='macro')\n",
        "recall = recall_score(label_test, yPredict,  labels=[0,1], average='macro')\n",
        "cmat = (cmatrix.T / cmatrix.sum(axis=1)).T # normalized\n",
        "\n",
        "print('f1 score: {:.3f}, precision: {:.3f}, recall: {:.3f}'.format(score, precision, recall))"
      ],
      "execution_count": 16,
      "outputs": [
        {
          "output_type": "stream",
          "text": [
            "f1 score: 0.890, precision: 0.891, recall: 0.890\n"
          ],
          "name": "stdout"
        }
      ]
    },
    {
      "cell_type": "code",
      "metadata": {
        "id": "9ClfXP6Vcjj4",
        "colab": {
          "base_uri": "https://localhost:8080/",
          "height": 295
        },
        "outputId": "e1839195-e14f-4229-d08f-130c4335bc44"
      },
      "source": [
        "#visual confusion matrix\n",
        "  \n",
        "\n",
        "ax= plt.subplot()\n",
        "sns.heatmap(cmat,cmap='Greens', annot=True, ax = ax); #annot=True to annotate cells\n",
        "\n",
        "# labels, title and ticks\n",
        "ax.set_xlabel('Predicted labels');\n",
        "ax.set_ylabel('True labels'); \n",
        "ax.set_title('Confusion Matrix'); \n",
        "ax.xaxis.set_ticklabels([' Normal', 'Not Normal']); \n",
        "ax.yaxis.set_ticklabels([' Normal', 'Not Normal']);"
      ],
      "execution_count": 18,
      "outputs": [
        {
          "output_type": "display_data",
          "data": {
            "image/png": "[encoded data removed]",
            "text/plain": [
              "<Figure size 432x288 with 2 Axes>"
            ]
          },
          "metadata": {
            "tags": [],
            "needs_background": "light"
          }
        }
      ]
    },
    {
      "cell_type": "markdown",
      "metadata": {
        "id": "Rx135amh0N0j"
      },
      "source": [
        "# Evaluate Model Using Test Data"
      ]
    },
    {
      "cell_type": "code",
      "metadata": {
        "id": "5VX3es34Iom6",
        "colab": {
          "base_uri": "https://localhost:8080/"
        },
        "outputId": "6b07a027-25c3-4947-ff36-1019e91d98ab"
      },
      "source": [
        "#0  normal(-1)\n",
        "#1 \tnot normal(1)\n",
        "Xnew=[]\n",
        "Xnew = model.predict_classes(testSet)\n",
        "for i in range(len(Xnew)):\n",
        "\tprint(\"X=%s, Predicted=%s\" % (label_test[i], Xnew[i]))"
      ],
      "execution_count": 19,
      "outputs": [
        {
          "output_type": "stream",
          "text": [
            "/usr/local/lib/python3.6/dist-packages/tensorflow/python/keras/engine/sequential.py:450: UserWarning: `model.predict_classes()` is deprecated and will be removed after 2021-01-01. Please use instead:* `np.argmax(model.predict(x), axis=-1)`,   if your model does multi-class classification   (e.g. if it uses a `softmax` last-layer activation).* `(model.predict(x) > 0.5).astype(\"int32\")`,   if your model does binary classification   (e.g. if it uses a `sigmoid` last-layer activation).\n",
            "  warnings.warn('`model.predict_classes()` is deprecated and '\n"
          ],
          "name": "stderr"
        },
        {
          "output_type": "stream",
          "text": [
            "X=1, Predicted=[1]\n",
            "X=1, Predicted=[1]\n",
            "X=1, Predicted=[1]\n",
            "X=1, Predicted=[1]\n",
            "X=1, Predicted=[1]\n",
            "X=1, Predicted=[1]\n",
            "X=0, Predicted=[0]\n",
            "X=1, Predicted=[1]\n",
            "X=0, Predicted=[0]\n",
            "X=1, Predicted=[1]\n",
            "X=0, Predicted=[0]\n",
            "X=0, Predicted=[0]\n",
            "X=1, Predicted=[1]\n",
            "X=1, Predicted=[1]\n",
            "X=1, Predicted=[1]\n",
            "X=0, Predicted=[1]\n",
            "X=1, Predicted=[0]\n",
            "X=1, Predicted=[0]\n",
            "X=0, Predicted=[1]\n",
            "X=1, Predicted=[1]\n",
            "X=1, Predicted=[1]\n",
            "X=1, Predicted=[1]\n",
            "X=1, Predicted=[1]\n",
            "X=1, Predicted=[1]\n",
            "X=0, Predicted=[0]\n",
            "X=1, Predicted=[1]\n",
            "X=0, Predicted=[0]\n",
            "X=0, Predicted=[0]\n",
            "X=0, Predicted=[0]\n",
            "X=1, Predicted=[1]\n",
            "X=1, Predicted=[0]\n",
            "X=0, Predicted=[1]\n",
            "X=1, Predicted=[0]\n",
            "X=1, Predicted=[1]\n",
            "X=0, Predicted=[0]\n",
            "X=1, Predicted=[1]\n",
            "X=1, Predicted=[1]\n",
            "X=0, Predicted=[1]\n",
            "X=1, Predicted=[1]\n",
            "X=1, Predicted=[1]\n",
            "X=1, Predicted=[1]\n",
            "X=1, Predicted=[1]\n",
            "X=1, Predicted=[1]\n",
            "X=1, Predicted=[1]\n",
            "X=1, Predicted=[0]\n",
            "X=1, Predicted=[1]\n",
            "X=1, Predicted=[1]\n",
            "X=1, Predicted=[1]\n",
            "X=0, Predicted=[1]\n",
            "X=0, Predicted=[0]\n",
            "X=1, Predicted=[1]\n",
            "X=1, Predicted=[1]\n",
            "X=0, Predicted=[1]\n",
            "X=1, Predicted=[1]\n",
            "X=0, Predicted=[0]\n",
            "X=1, Predicted=[1]\n",
            "X=1, Predicted=[1]\n",
            "X=0, Predicted=[0]\n",
            "X=0, Predicted=[0]\n",
            "X=0, Predicted=[1]\n",
            "X=0, Predicted=[0]\n",
            "X=0, Predicted=[0]\n",
            "X=0, Predicted=[0]\n",
            "X=0, Predicted=[1]\n",
            "X=0, Predicted=[1]\n",
            "X=0, Predicted=[0]\n",
            "X=0, Predicted=[0]\n",
            "X=0, Predicted=[0]\n",
            "X=0, Predicted=[0]\n",
            "X=0, Predicted=[0]\n",
            "X=0, Predicted=[0]\n",
            "X=0, Predicted=[0]\n",
            "X=0, Predicted=[0]\n",
            "X=0, Predicted=[0]\n",
            "X=0, Predicted=[0]\n",
            "X=0, Predicted=[1]\n",
            "X=0, Predicted=[0]\n",
            "X=0, Predicted=[0]\n",
            "X=0, Predicted=[0]\n",
            "X=0, Predicted=[0]\n",
            "X=0, Predicted=[0]\n",
            "X=0, Predicted=[0]\n",
            "X=0, Predicted=[0]\n",
            "X=0, Predicted=[0]\n",
            "X=0, Predicted=[0]\n",
            "X=0, Predicted=[0]\n",
            "X=0, Predicted=[0]\n",
            "X=1, Predicted=[1]\n",
            "X=0, Predicted=[0]\n",
            "X=0, Predicted=[0]\n",
            "X=0, Predicted=[0]\n",
            "X=0, Predicted=[0]\n",
            "X=1, Predicted=[1]\n",
            "X=0, Predicted=[0]\n",
            "X=0, Predicted=[1]\n",
            "X=1, Predicted=[1]\n",
            "X=0, Predicted=[0]\n",
            "X=1, Predicted=[1]\n",
            "X=0, Predicted=[0]\n",
            "X=0, Predicted=[0]\n",
            "X=0, Predicted=[0]\n",
            "X=1, Predicted=[0]\n",
            "X=1, Predicted=[1]\n",
            "X=0, Predicted=[0]\n",
            "X=0, Predicted=[0]\n",
            "X=0, Predicted=[0]\n",
            "X=0, Predicted=[0]\n",
            "X=0, Predicted=[0]\n",
            "X=0, Predicted=[0]\n",
            "X=1, Predicted=[1]\n",
            "X=0, Predicted=[0]\n",
            "X=1, Predicted=[1]\n",
            "X=1, Predicted=[1]\n",
            "X=0, Predicted=[1]\n",
            "X=0, Predicted=[0]\n",
            "X=0, Predicted=[0]\n",
            "X=1, Predicted=[1]\n",
            "X=0, Predicted=[0]\n",
            "X=0, Predicted=[0]\n",
            "X=1, Predicted=[1]\n",
            "X=1, Predicted=[0]\n",
            "X=0, Predicted=[0]\n",
            "X=1, Predicted=[1]\n",
            "X=0, Predicted=[0]\n",
            "X=0, Predicted=[0]\n",
            "X=1, Predicted=[1]\n",
            "X=0, Predicted=[0]\n",
            "X=1, Predicted=[1]\n",
            "X=0, Predicted=[0]\n",
            "X=0, Predicted=[0]\n",
            "X=0, Predicted=[0]\n",
            "X=0, Predicted=[0]\n",
            "X=0, Predicted=[0]\n",
            "X=1, Predicted=[1]\n",
            "X=0, Predicted=[0]\n",
            "X=0, Predicted=[0]\n",
            "X=1, Predicted=[1]\n",
            "X=0, Predicted=[0]\n",
            "X=0, Predicted=[0]\n",
            "X=0, Predicted=[0]\n",
            "X=0, Predicted=[0]\n",
            "X=0, Predicted=[0]\n",
            "X=1, Predicted=[0]\n",
            "X=0, Predicted=[0]\n",
            "X=0, Predicted=[0]\n",
            "X=0, Predicted=[0]\n",
            "X=0, Predicted=[0]\n",
            "X=1, Predicted=[1]\n",
            "X=1, Predicted=[0]\n",
            "X=1, Predicted=[1]\n",
            "X=1, Predicted=[1]\n",
            "X=1, Predicted=[1]\n",
            "X=1, Predicted=[1]\n",
            "X=1, Predicted=[0]\n",
            "X=1, Predicted=[0]\n",
            "X=1, Predicted=[0]\n",
            "X=1, Predicted=[0]\n",
            "X=1, Predicted=[1]\n",
            "X=1, Predicted=[1]\n",
            "X=1, Predicted=[1]\n",
            "X=1, Predicted=[1]\n",
            "X=1, Predicted=[0]\n",
            "X=1, Predicted=[1]\n",
            "X=1, Predicted=[1]\n",
            "X=1, Predicted=[1]\n",
            "X=1, Predicted=[0]\n",
            "X=1, Predicted=[0]\n",
            "X=1, Predicted=[1]\n",
            "X=1, Predicted=[1]\n",
            "X=1, Predicted=[1]\n",
            "X=1, Predicted=[1]\n",
            "X=1, Predicted=[1]\n",
            "X=1, Predicted=[1]\n",
            "X=1, Predicted=[1]\n",
            "X=1, Predicted=[1]\n",
            "X=1, Predicted=[1]\n",
            "X=1, Predicted=[1]\n",
            "X=1, Predicted=[1]\n",
            "X=1, Predicted=[1]\n",
            "X=1, Predicted=[1]\n",
            "X=0, Predicted=[0]\n",
            "X=1, Predicted=[1]\n",
            "X=0, Predicted=[0]\n",
            "X=0, Predicted=[1]\n",
            "X=1, Predicted=[1]\n",
            "X=0, Predicted=[0]\n",
            "X=1, Predicted=[1]\n",
            "X=1, Predicted=[0]\n",
            "X=1, Predicted=[0]\n",
            "X=0, Predicted=[0]\n",
            "X=0, Predicted=[0]\n",
            "X=0, Predicted=[0]\n",
            "X=1, Predicted=[1]\n",
            "X=1, Predicted=[1]\n",
            "X=0, Predicted=[1]\n",
            "X=0, Predicted=[0]\n",
            "X=0, Predicted=[0]\n",
            "X=0, Predicted=[0]\n",
            "X=0, Predicted=[0]\n",
            "X=0, Predicted=[0]\n",
            "X=0, Predicted=[0]\n",
            "X=0, Predicted=[0]\n",
            "X=0, Predicted=[0]\n",
            "X=0, Predicted=[0]\n",
            "X=0, Predicted=[0]\n",
            "X=0, Predicted=[0]\n",
            "X=0, Predicted=[0]\n",
            "X=0, Predicted=[0]\n",
            "X=0, Predicted=[0]\n",
            "X=0, Predicted=[0]\n",
            "X=0, Predicted=[0]\n",
            "X=0, Predicted=[0]\n",
            "X=0, Predicted=[0]\n",
            "X=0, Predicted=[0]\n",
            "X=1, Predicted=[1]\n",
            "X=0, Predicted=[0]\n",
            "X=0, Predicted=[0]\n",
            "X=0, Predicted=[0]\n",
            "X=0, Predicted=[0]\n",
            "X=0, Predicted=[0]\n",
            "X=0, Predicted=[0]\n",
            "X=0, Predicted=[0]\n",
            "X=0, Predicted=[0]\n",
            "X=0, Predicted=[0]\n",
            "X=0, Predicted=[0]\n",
            "X=0, Predicted=[0]\n",
            "X=0, Predicted=[0]\n",
            "X=0, Predicted=[0]\n",
            "X=0, Predicted=[0]\n",
            "X=0, Predicted=[0]\n",
            "X=0, Predicted=[0]\n",
            "X=0, Predicted=[0]\n",
            "X=0, Predicted=[0]\n",
            "X=0, Predicted=[0]\n",
            "X=0, Predicted=[0]\n",
            "X=0, Predicted=[0]\n",
            "X=0, Predicted=[0]\n",
            "X=0, Predicted=[0]\n",
            "X=0, Predicted=[0]\n",
            "X=0, Predicted=[0]\n",
            "X=0, Predicted=[0]\n",
            "X=0, Predicted=[0]\n",
            "X=1, Predicted=[1]\n",
            "X=0, Predicted=[0]\n",
            "X=0, Predicted=[0]\n",
            "X=0, Predicted=[0]\n",
            "X=0, Predicted=[0]\n",
            "X=0, Predicted=[0]\n",
            "X=0, Predicted=[0]\n",
            "X=0, Predicted=[0]\n",
            "X=1, Predicted=[1]\n",
            "X=1, Predicted=[1]\n",
            "X=1, Predicted=[1]\n",
            "X=1, Predicted=[1]\n",
            "X=1, Predicted=[1]\n",
            "X=1, Predicted=[1]\n",
            "X=1, Predicted=[1]\n",
            "X=1, Predicted=[1]\n",
            "X=1, Predicted=[1]\n",
            "X=1, Predicted=[1]\n",
            "X=1, Predicted=[1]\n",
            "X=1, Predicted=[1]\n",
            "X=1, Predicted=[1]\n",
            "X=1, Predicted=[1]\n",
            "X=1, Predicted=[1]\n",
            "X=1, Predicted=[1]\n",
            "X=1, Predicted=[1]\n",
            "X=1, Predicted=[1]\n",
            "X=1, Predicted=[1]\n",
            "X=1, Predicted=[1]\n",
            "X=1, Predicted=[1]\n",
            "X=1, Predicted=[1]\n",
            "X=1, Predicted=[1]\n",
            "X=1, Predicted=[1]\n",
            "X=1, Predicted=[1]\n",
            "X=1, Predicted=[1]\n",
            "X=1, Predicted=[1]\n",
            "X=1, Predicted=[1]\n",
            "X=1, Predicted=[1]\n",
            "X=1, Predicted=[1]\n",
            "X=1, Predicted=[1]\n",
            "X=1, Predicted=[1]\n",
            "X=1, Predicted=[1]\n",
            "X=1, Predicted=[1]\n",
            "X=1, Predicted=[1]\n",
            "X=1, Predicted=[1]\n",
            "X=1, Predicted=[1]\n",
            "X=1, Predicted=[1]\n",
            "X=1, Predicted=[1]\n",
            "X=1, Predicted=[1]\n",
            "X=1, Predicted=[1]\n",
            "X=1, Predicted=[0]\n",
            "X=1, Predicted=[1]\n",
            "X=1, Predicted=[1]\n",
            "X=1, Predicted=[1]\n",
            "X=1, Predicted=[1]\n",
            "X=1, Predicted=[1]\n",
            "X=1, Predicted=[1]\n",
            "X=1, Predicted=[1]\n",
            "X=1, Predicted=[1]\n",
            "X=1, Predicted=[1]\n"
          ],
          "name": "stdout"
        }
      ]
    }
  ]
}