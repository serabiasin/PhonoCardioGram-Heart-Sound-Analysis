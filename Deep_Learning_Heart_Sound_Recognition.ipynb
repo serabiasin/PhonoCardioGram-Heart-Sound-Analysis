{
  "nbformat": 4,
  "nbformat_minor": 0,
  "metadata": {
    "colab": {
      "name": "Deep Learning Heart Sound Recognition",
      "provenance": [],
      "collapsed_sections": []
    },
    "kernelspec": {
      "name": "python3",
      "display_name": "Python 3"
    },
    "accelerator": "GPU"
  },
  "cells": [
    {
      "cell_type": "markdown",
      "metadata": {
        "id": "xZJl7Mnlzwhl",
        "colab_type": "text"
      },
      "source": [
        "# Connect To Google Drive "
      ]
    },
    {
      "cell_type": "code",
      "metadata": {
        "id": "xSs9JmH3TGvs",
        "colab_type": "code",
        "outputId": "b80da48a-6bb7-4361-a320-3c920549c079",
        "colab": {
          "base_uri": "https://localhost:8080/",
          "height": 122
        }
      },
      "source": [
        "#ke sso akun d3\n",
        "from google.colab import drive\n",
        "drive.mount('/content/drive')"
      ],
      "execution_count": 1,
      "outputs": [
        {
          "output_type": "stream",
          "text": [
            "Go to this URL in a browser: https://accounts.google.com/o/oauth2/auth?client_id=947318989803-6bn6qk8qdgf4n4g3pfee6491hc0brc4i.apps.googleusercontent.com&redirect_uri=urn%3aietf%3awg%3aoauth%3a2.0%3aoob&response_type=code&scope=email%20https%3a%2f%2fwww.googleapis.com%2fauth%2fdocs.test%20https%3a%2f%2fwww.googleapis.com%2fauth%2fdrive%20https%3a%2f%2fwww.googleapis.com%2fauth%2fdrive.photos.readonly%20https%3a%2f%2fwww.googleapis.com%2fauth%2fpeopleapi.readonly\n",
            "\n",
            "Enter your authorization code:\n",
            "··········\n",
            "Mounted at /content/drive\n"
          ],
          "name": "stdout"
        }
      ]
    },
    {
      "cell_type": "markdown",
      "metadata": {
        "id": "8q-xwzBbjB3f",
        "colab_type": "text"
      },
      "source": [
        "# **REFERENSI PAPER**\n",
        "\n",
        "\n",
        "*   https://www.sciencedirect.com/science/article/pii/B9780128190616000069\n",
        "*   https://sci-hub.tw/https://doi.org/10.3109/03091909309006329\n",
        "*   http://cinc.org/archives/2003/pdf/323.pdf\n",
        "*   https://ieeexplore.ieee.org/document/*5738061*\n",
        "*   https://classeval.wordpress.com/introduction/basic-evaluation-measures/\n",
        "*   List item\n",
        "\n",
        "\n",
        "\n",
        "\n",
        "\n"
      ]
    },
    {
      "cell_type": "markdown",
      "metadata": {
        "id": "HrWhi7GBz5o9",
        "colab_type": "text"
      },
      "source": [
        "# Pre-Load Library"
      ]
    },
    {
      "cell_type": "code",
      "metadata": {
        "id": "Lah-KIAdhDhM",
        "colab_type": "code",
        "outputId": "8389d7b7-56bc-404e-e973-d582264fa1b4",
        "colab": {
          "base_uri": "https://localhost:8080/",
          "height": 71
        }
      },
      "source": [
        "import os\n",
        "import librosa\n",
        "import numpy as np\n",
        "import pywt\n",
        "from scipy import signal\n",
        "import seaborn as sns\n",
        "import matplotlib.pyplot as plt   "
      ],
      "execution_count": 2,
      "outputs": [
        {
          "output_type": "stream",
          "text": [
            "/usr/local/lib/python3.6/dist-packages/statsmodels/tools/_testing.py:19: FutureWarning: pandas.util.testing is deprecated. Use the functions in the public API at pandas.testing instead.\n",
            "  import pandas.util.testing as tm\n"
          ],
          "name": "stderr"
        }
      ]
    },
    {
      "cell_type": "code",
      "metadata": {
        "id": "apy8zuloELKz",
        "colab_type": "code",
        "colab": {}
      },
      "source": [
        "import tensorflow as tf, tensorflow.keras.backend as K\n",
        "import tensorflow_addons as tfa\n",
        "from sklearn.preprocessing import LabelEncoder\n",
        "from sklearn.decomposition import PCA\n",
        "from sklearn.metrics import f1_score, precision_score, recall_score, confusion_matrix"
      ],
      "execution_count": 0,
      "outputs": []
    },
    {
      "cell_type": "markdown",
      "metadata": {
        "id": "Hrd_3Qfvz9kI",
        "colab_type": "text"
      },
      "source": [
        "# Prepare Dataset"
      ]
    },
    {
      "cell_type": "code",
      "metadata": {
        "id": "lBupB3ZCiX2n",
        "colab_type": "code",
        "colab": {}
      },
      "source": [
        "dirlabel_t=\"/content/drive/My Drive/DataSetSuaraJantungPhysionet/Dataset/LABELTRAIN.npy\"\n",
        "dirlabel_v=\"/content/drive/My Drive/DataSetSuaraJantungPhysionet/Dataset/LABELVAL.npy\"\n",
        "\n",
        "#Training and Validation\n",
        "matrices_datasetTV=['/content/drive/My Drive/DataSetSuaraJantungPhysionet/Dataset/eigenDataTrain100percent.npy',\n",
        "                    '/content/drive/My Drive/DataSetSuaraJantungPhysionet/Dataset/eigenDataTrain75percent.npy',\n",
        "                    '/content/drive/My Drive/DataSetSuaraJantungPhysionet/Dataset/eigenDataTrain50percent.npy',\n",
        "                    '/content/drive/My Drive/DataSetSuaraJantungPhysionet/Dataset/eigenDataTrain25percent.npy'] \n",
        "\n",
        "#test Set\n",
        "matrices_datasetTest=['/content/drive/My Drive/DataSetSuaraJantungPhysionet/Dataset/eigenDataValid100percent.npy',\n",
        "                      '/content/drive/My Drive/DataSetSuaraJantungPhysionet/Dataset/eigenDataValid75percent.npy',\n",
        "                      '/content/drive/My Drive/DataSetSuaraJantungPhysionet/Dataset/eigenDataValid50percent.npy',\n",
        "                      '/content/drive/My Drive/DataSetSuaraJantungPhysionet/Dataset/eigenDataValid25percent.npy'] \n"
      ],
      "execution_count": 0,
      "outputs": []
    },
    {
      "cell_type": "code",
      "metadata": {
        "id": "BHg5X-pX6LlH",
        "colab_type": "code",
        "colab": {}
      },
      "source": [
        "opsi=0 #pilih persentasi feature dataset (misal, opsi= 100% feature penting)"
      ],
      "execution_count": 0,
      "outputs": []
    },
    {
      "cell_type": "code",
      "metadata": {
        "id": "A0q4XwoFx2ST",
        "colab_type": "code",
        "colab": {
          "base_uri": "https://localhost:8080/",
          "height": 85
        },
        "outputId": "dad6262d-9bb6-4cac-b332-4756b7e7d0be"
      },
      "source": [
        "from sklearn.model_selection import train_test_split\n",
        "\n",
        "trainvalSet=np.load(matrices_datasetTV[opsi]) #training dan validasi (akan di split nanti)\n",
        "testSet=np.load(matrices_datasetTest[opsi]) #menjadi test set\n",
        "\n",
        "trainvalSet=np.reshape(trainvalSet,(-1,trainvalSet.shape[1],trainvalSet.shape[2],1))\n",
        "testSet=np.reshape(testSet,(-1,testSet.shape[1],testSet.shape[2],1))\n",
        "\n",
        "label_train=np.load(dirlabel_t)\n",
        "label_test=np.load(dirlabel_v)\n",
        "\n",
        "\n",
        "X_train, validation, y_train, label_v = train_test_split(trainvalSet, label_train, test_size=0.2)\n",
        "\n",
        "print(X_train.shape,validation.shape)\n",
        "\n",
        "#melihat jumlah data perkelas\n",
        "print(np.array(np.where(y_train == 0)).shape,np.array(np.where(y_train == 1)).shape)\n",
        "print(np.array(np.where(label_v == 0)).shape,np.array(np.where(label_v == 1)).shape)"
      ],
      "execution_count": 15,
      "outputs": [
        {
          "output_type": "stream",
          "text": [
            "(2592, 130, 100, 1) (648, 130, 100, 1)\n",
            "[1 1 1 ... 0 0 0]\n",
            "(1, 2041) (1, 551)\n",
            "(1, 534) (1, 114)\n"
          ],
          "name": "stdout"
        }
      ]
    },
    {
      "cell_type": "code",
      "metadata": {
        "id": "9kGNFHp9phWN",
        "colab_type": "code",
        "colab": {}
      },
      "source": [
        "def display_training_curves(training, validation, title, subplot):\n",
        "    if subplot%10==1: # set up the subplots on the first call\n",
        "        plt.subplots(figsize=(10,10), facecolor='#F0F0F0')\n",
        "        plt.tight_layout()\n",
        "    ax = plt.subplot(subplot)\n",
        "    ax.set_facecolor('#F8F8F8')\n",
        "    ax.plot(training)\n",
        "    ax.plot(validation)\n",
        "    ax.set_title('model '+ title)\n",
        "    ax.set_ylabel(title)\n",
        "    #ax.set_ylim(0.28,1.05)\n",
        "    ax.set_xlabel('epoch')\n",
        "    ax.legend(['train', 'valid.'])"
      ],
      "execution_count": 0,
      "outputs": []
    },
    {
      "cell_type": "code",
      "metadata": {
        "id": "qdYEwtvhjynO",
        "colab_type": "code",
        "colab": {}
      },
      "source": [
        "dataSize=[trainvalSet.shape[1],trainvalSet.shape[2]]\n",
        "EPOCHS=13\n",
        "BATCH_SIZE = 32\n",
        "\n",
        "CLASSES=['Tidak Normal','Normal']       "
      ],
      "execution_count": 0,
      "outputs": []
    },
    {
      "cell_type": "markdown",
      "metadata": {
        "id": "hII_HPJY0CtH",
        "colab_type": "text"
      },
      "source": [
        "# Tuning Hyperparameter"
      ]
    },
    {
      "cell_type": "code",
      "metadata": {
        "id": "DugedCJ2laP6",
        "colab_type": "code",
        "colab": {}
      },
      "source": [
        "#learning rate scheduler\n",
        "\n",
        "LR_START = 0.0001\n",
        "LR_MAX =  0.000015\n",
        "LR_MIN = 0.00001\n",
        "LR_RAMPUP_EPOCHS = 4\n",
        "LR_SUSTAIN_EPOCHS = 7\n",
        "LR_EXP_DECAY = .8\n",
        "\n",
        "def lrfn(epoch):\n",
        "    if epoch < LR_RAMPUP_EPOCHS:\n",
        "        lr = np.random.random_sample() * LR_START\n",
        "    elif epoch < LR_RAMPUP_EPOCHS + LR_SUSTAIN_EPOCHS:\n",
        "        lr = LR_MAX\n",
        "    else:\n",
        "        lr = (LR_MAX - LR_MIN) * LR_EXP_DECAY**(epoch - LR_RAMPUP_EPOCHS - LR_SUSTAIN_EPOCHS) + LR_MIN\n",
        "    return lr\n",
        "    \n",
        "lr_callback = tf.keras.callbacks.LearningRateScheduler(lrfn, verbose=True)"
      ],
      "execution_count": 0,
      "outputs": []
    },
    {
      "cell_type": "code",
      "metadata": {
        "id": "RyAEBHTnFb-F",
        "colab_type": "code",
        "colab": {}
      },
      "source": [
        "# import efficientnet.keras as efn \n",
        "\n",
        "pretrained_model=tf.keras.applications.resnet_v2.ResNet50V2(include_top=False, weights=None,  input_shape=[*dataSize, 1])\n",
        "pretrained_model.trainable = True # False = transfer learning, True = fine-tuning      \n",
        "\n",
        "model = tf.keras.Sequential([\n",
        "          pretrained_model,\n",
        "          tf.keras.layers.Dropout(0.15),\n",
        "          tf.keras.layers.GlobalAveragePooling2D(),\n",
        "          tf.keras.layers.Flatten(),\n",
        "          tf.keras.layers.Dense(1, activation='sigmoid')\n",
        "      ])"
      ],
      "execution_count": 0,
      "outputs": []
    },
    {
      "cell_type": "code",
      "metadata": {
        "id": "uLC5s98aMhO4",
        "colab_type": "code",
        "outputId": "7f5181b9-5405-4db4-ce96-53636c85a1b2",
        "colab": {
          "base_uri": "https://localhost:8080/",
          "height": 323
        }
      },
      "source": [
        "model.summary()"
      ],
      "execution_count": 106,
      "outputs": [
        {
          "output_type": "stream",
          "text": [
            "Model: \"sequential_10\"\n",
            "_________________________________________________________________\n",
            "Layer (type)                 Output Shape              Param #   \n",
            "=================================================================\n",
            "resnet50v2 (Model)           (None, 5, 4, 2048)        23558528  \n",
            "_________________________________________________________________\n",
            "dropout_10 (Dropout)         (None, 5, 4, 2048)        0         \n",
            "_________________________________________________________________\n",
            "global_average_pooling2d_10  (None, 2048)              0         \n",
            "_________________________________________________________________\n",
            "flatten_10 (Flatten)         (None, 2048)              0         \n",
            "_________________________________________________________________\n",
            "dense_10 (Dense)             (None, 1)                 2049      \n",
            "=================================================================\n",
            "Total params: 23,560,577\n",
            "Trainable params: 23,515,137\n",
            "Non-trainable params: 45,440\n",
            "_________________________________________________________________\n"
          ],
          "name": "stdout"
        }
      ]
    },
    {
      "cell_type": "code",
      "metadata": {
        "id": "PXftWvMRlGVu",
        "colab_type": "code",
        "colab": {}
      },
      "source": [
        "radam = tfa.optimizers.RectifiedAdam()\n",
        "\n",
        "model.compile(\n",
        "    # optimizer='adam',\n",
        "    optimizer= tfa.optimizers.Lookahead(radam, sync_period=4, slow_step_size=0.35),\n",
        "    loss = 'binary_crossentropy',\n",
        "    metrics=['accuracy']\n",
        ")"
      ],
      "execution_count": 0,
      "outputs": []
    },
    {
      "cell_type": "markdown",
      "metadata": {
        "id": "m1Bwvq5p0Gez",
        "colab_type": "text"
      },
      "source": [
        "# Training"
      ]
    },
    {
      "cell_type": "code",
      "metadata": {
        "id": "9TZ3lR3ucSpb",
        "colab_type": "code",
        "colab": {
          "base_uri": "https://localhost:8080/",
          "height": 901
        },
        "outputId": "91546b69-a7ed-46c9-f34a-3fcdba25d882"
      },
      "source": [
        "\n",
        "class_weight = {0: 0.70,\n",
        "                1: 1.955}\n",
        "\n",
        "history=model.fit( x=X_train,y=y_train,validation_data=(validation,label_v),\n",
        "          epochs=EPOCHS,callbacks=[lr_callback],\n",
        "          class_weight=class_weight,\n",
        "          use_multiprocessing=False\n",
        "          )"
      ],
      "execution_count": 115,
      "outputs": [
        {
          "output_type": "stream",
          "text": [
            "\n",
            "Epoch 00001: LearningRateScheduler reducing learning rate to 3.0368179626702576e-06.\n",
            "Epoch 1/13\n",
            "81/81 [==============================] - 11s 130ms/step - loss: 0.7208 - accuracy: 0.2157 - val_loss: 0.8123 - val_accuracy: 0.1759 - lr: 3.0368e-06\n",
            "\n",
            "Epoch 00002: LearningRateScheduler reducing learning rate to 8.510244799479363e-05.\n",
            "Epoch 2/13\n",
            "81/81 [==============================] - 10s 121ms/step - loss: 0.5425 - accuracy: 0.6829 - val_loss: 0.5931 - val_accuracy: 0.8719 - lr: 8.5102e-05\n",
            "\n",
            "Epoch 00003: LearningRateScheduler reducing learning rate to 3.6139350525958513e-05.\n",
            "Epoch 3/13\n",
            "81/81 [==============================] - 10s 123ms/step - loss: 0.4441 - accuracy: 0.8137 - val_loss: 0.4650 - val_accuracy: 0.8549 - lr: 3.6139e-05\n",
            "\n",
            "Epoch 00004: LearningRateScheduler reducing learning rate to 9.335607363556907e-05.\n",
            "Epoch 4/13\n",
            "81/81 [==============================] - 10s 120ms/step - loss: 0.4079 - accuracy: 0.8391 - val_loss: 0.3758 - val_accuracy: 0.8781 - lr: 9.3356e-05\n",
            "\n",
            "Epoch 00005: LearningRateScheduler reducing learning rate to 1.5e-05.\n",
            "Epoch 5/13\n",
            "81/81 [==============================] - 10s 120ms/step - loss: 0.3481 - accuracy: 0.8692 - val_loss: 0.3543 - val_accuracy: 0.8735 - lr: 1.5000e-05\n",
            "\n",
            "Epoch 00006: LearningRateScheduler reducing learning rate to 1.5e-05.\n",
            "Epoch 6/13\n",
            "81/81 [==============================] - 10s 121ms/step - loss: 0.3463 - accuracy: 0.8723 - val_loss: 0.3666 - val_accuracy: 0.8596 - lr: 1.5000e-05\n",
            "\n",
            "Epoch 00007: LearningRateScheduler reducing learning rate to 1.5e-05.\n",
            "Epoch 7/13\n",
            "81/81 [==============================] - 10s 121ms/step - loss: 0.3217 - accuracy: 0.8870 - val_loss: 0.3808 - val_accuracy: 0.8380 - lr: 1.5000e-05\n",
            "\n",
            "Epoch 00008: LearningRateScheduler reducing learning rate to 1.5e-05.\n",
            "Epoch 8/13\n",
            "81/81 [==============================] - 10s 121ms/step - loss: 0.3009 - accuracy: 0.8885 - val_loss: 0.3652 - val_accuracy: 0.8503 - lr: 1.5000e-05\n",
            "\n",
            "Epoch 00009: LearningRateScheduler reducing learning rate to 1.5e-05.\n",
            "Epoch 9/13\n",
            "81/81 [==============================] - 10s 120ms/step - loss: 0.2898 - accuracy: 0.8931 - val_loss: 0.3645 - val_accuracy: 0.8519 - lr: 1.5000e-05\n",
            "\n",
            "Epoch 00010: LearningRateScheduler reducing learning rate to 1.5e-05.\n",
            "Epoch 10/13\n",
            "81/81 [==============================] - 10s 122ms/step - loss: 0.2736 - accuracy: 0.9105 - val_loss: 0.3858 - val_accuracy: 0.8441 - lr: 1.5000e-05\n",
            "\n",
            "Epoch 00011: LearningRateScheduler reducing learning rate to 1.5e-05.\n",
            "Epoch 11/13\n",
            "81/81 [==============================] - 10s 121ms/step - loss: 0.2469 - accuracy: 0.9147 - val_loss: 0.3795 - val_accuracy: 0.8380 - lr: 1.5000e-05\n",
            "\n",
            "Epoch 00012: LearningRateScheduler reducing learning rate to 1.5e-05.\n",
            "Epoch 12/13\n",
            "81/81 [==============================] - 10s 120ms/step - loss: 0.2179 - accuracy: 0.9313 - val_loss: 0.3710 - val_accuracy: 0.8364 - lr: 1.5000e-05\n",
            "\n",
            "Epoch 00013: LearningRateScheduler reducing learning rate to 1.4000000000000001e-05.\n",
            "Epoch 13/13\n",
            "81/81 [==============================] - 10s 121ms/step - loss: 0.1893 - accuracy: 0.9414 - val_loss: 0.3608 - val_accuracy: 0.8565 - lr: 1.4000e-05\n"
          ],
          "name": "stdout"
        }
      ]
    },
    {
      "cell_type": "code",
      "metadata": {
        "id": "vOwwtaBYN3u7",
        "colab_type": "code",
        "outputId": "d00aaaaa-228d-4538-b68f-75fdd119ddb0",
        "colab": {
          "base_uri": "https://localhost:8080/",
          "height": 755
        }
      },
      "source": [
        "\n",
        "\n",
        "display_training_curves(history.history['loss'], history.history['val_loss'], 'loss', 211)\n",
        "display_training_curves(history.history['accuracy'], history.history['val_accuracy'], 'accuracy', 212)\n",
        "\n"
      ],
      "execution_count": 117,
      "outputs": [
        {
          "output_type": "display_data",
          "data": {
            "image/png": "[encoded data removed]",
            "text/plain": [
              "<Figure size 720x720 with 2 Axes>"
            ]
          },
          "metadata": {
            "tags": []
          }
        }
      ]
    },
    {
      "cell_type": "markdown",
      "metadata": {
        "id": "u78TpXrN0JjL",
        "colab_type": "text"
      },
      "source": [
        "# Metric Model"
      ]
    },
    {
      "cell_type": "code",
      "metadata": {
        "id": "cAqtsXEdo_mW",
        "colab_type": "code",
        "outputId": "ee2b3bc5-eced-4190-87fb-fb646bb9d47b",
        "colab": {
          "base_uri": "https://localhost:8080/",
          "height": 85
        }
      },
      "source": [
        "\"\"\"Confusion Matrix, For Model Benchmark\"\"\"\n",
        "yPredict = model.predict_classes(testSet)\n",
        "yPredict=np.transpose(yPredict)\n",
        "yPredict=yPredict.flatten()\n",
        "\n",
        "print(\"Predicted Label: \",yPredict[:20])\n",
        "print(\"Correct Label: \",label_test[:20])\n",
        "\n",
        "cmatrix= confusion_matrix(label_test, yPredict, labels=[0,1])\n",
        "print(cmatrix)"
      ],
      "execution_count": 118,
      "outputs": [
        {
          "output_type": "stream",
          "text": [
            "Predicted Label:  [1 1 1 1 1 1 0 1 0 1 0 0 1 1 1 0 1 0 0 1]\n",
            "Correct Label:  [1 1 1 1 1 1 0 1 0 1 0 0 1 1 1 0 1 1 0 1]\n",
            "[[143   7]\n",
            " [ 14 137]]\n"
          ],
          "name": "stdout"
        }
      ]
    },
    {
      "cell_type": "code",
      "metadata": {
        "id": "p__iZZJYWZ0B",
        "colab_type": "code",
        "outputId": "804abd61-d3a4-4e7f-f6fe-99f88e8d2fc2",
        "colab": {
          "base_uri": "https://localhost:8080/",
          "height": 34
        }
      },
      "source": [
        "#metric\n",
        "score = f1_score(label_test, yPredict, labels=[0,1], average='macro')\n",
        "precision = precision_score(label_test, yPredict,  labels=[0,1], average='macro')\n",
        "recall = recall_score(label_test, yPredict,  labels=[0,1], average='macro')\n",
        "cmat = (cmatrix.T / cmatrix.sum(axis=1)).T # normalized\n",
        "\n",
        "print('f1 score: {:.3f}, precision: {:.3f}, recall: {:.3f}'.format(score, precision, recall))"
      ],
      "execution_count": 119,
      "outputs": [
        {
          "output_type": "stream",
          "text": [
            "f1 score: 0.930, precision: 0.931, recall: 0.930\n"
          ],
          "name": "stdout"
        }
      ]
    },
    {
      "cell_type": "code",
      "metadata": {
        "id": "9ClfXP6Vcjj4",
        "colab_type": "code",
        "outputId": "d45a091e-d423-4dfa-96c8-66de7778831b",
        "colab": {
          "base_uri": "https://localhost:8080/",
          "height": 295
        }
      },
      "source": [
        "#visual confusion matrix\n",
        "  \n",
        "\n",
        "ax= plt.subplot()\n",
        "sns.heatmap(cmat,cmap='Greens', annot=True, ax = ax); #annot=True to annotate cells\n",
        "\n",
        "# labels, title and ticks\n",
        "ax.set_xlabel('Predicted labels');\n",
        "ax.set_ylabel('True labels'); \n",
        "ax.set_title('Confusion Matrix'); \n",
        "ax.xaxis.set_ticklabels([' Normal', 'Tidak Normal']); \n",
        "ax.yaxis.set_ticklabels([' Normal', 'Tidak Normal']);"
      ],
      "execution_count": 120,
      "outputs": [
        {
          "output_type": "display_data",
          "data": {
            "image/png": "[encoded data removed]",
            "text/plain": [
              "<Figure size 432x288 with 2 Axes>"
            ]
          },
          "metadata": {
            "tags": [],
            "needs_background": "light"
          }
        }
      ]
    },
    {
      "cell_type": "markdown",
      "metadata": {
        "id": "Rx135amh0N0j",
        "colab_type": "text"
      },
      "source": [
        "# Evaluate Model Using Test Data"
      ]
    },
    {
      "cell_type": "code",
      "metadata": {
        "id": "5VX3es34Iom6",
        "colab_type": "code",
        "outputId": "5fc35b39-910c-4109-95c7-85587818af92",
        "colab": {
          "base_uri": "https://localhost:8080/",
          "height": 1000
        }
      },
      "source": [
        "#0  normal(-1)\n",
        "#1 \ttidak normal(1)\n",
        "Xnew=[]\n",
        "Xnew = model.predict_classes(testSet)\n",
        "for i in range(len(Xnew)):\n",
        "\tprint(\"X=%s, Predicted=%s\" % (label_test[i], Xnew[i]))"
      ],
      "execution_count": 31,
      "outputs": [
        {
          "output_type": "stream",
          "text": [
            "X=1, Predicted=[1]\n",
            "X=1, Predicted=[1]\n",
            "X=1, Predicted=[1]\n",
            "X=1, Predicted=[1]\n",
            "X=1, Predicted=[1]\n",
            "X=1, Predicted=[1]\n",
            "X=0, Predicted=[0]\n",
            "X=1, Predicted=[1]\n",
            "X=0, Predicted=[0]\n",
            "X=1, Predicted=[1]\n",
            "X=0, Predicted=[0]\n",
            "X=0, Predicted=[0]\n",
            "X=1, Predicted=[1]\n",
            "X=1, Predicted=[1]\n",
            "X=1, Predicted=[1]\n",
            "X=0, Predicted=[1]\n",
            "X=1, Predicted=[1]\n",
            "X=1, Predicted=[0]\n",
            "X=0, Predicted=[1]\n",
            "X=1, Predicted=[1]\n",
            "X=1, Predicted=[1]\n",
            "X=1, Predicted=[1]\n",
            "X=1, Predicted=[1]\n",
            "X=1, Predicted=[1]\n",
            "X=0, Predicted=[1]\n",
            "X=1, Predicted=[1]\n",
            "X=0, Predicted=[0]\n",
            "X=0, Predicted=[1]\n",
            "X=0, Predicted=[1]\n",
            "X=1, Predicted=[1]\n",
            "X=1, Predicted=[1]\n",
            "X=0, Predicted=[1]\n",
            "X=1, Predicted=[1]\n",
            "X=1, Predicted=[1]\n",
            "X=0, Predicted=[0]\n",
            "X=1, Predicted=[1]\n",
            "X=1, Predicted=[1]\n",
            "X=0, Predicted=[0]\n",
            "X=1, Predicted=[1]\n",
            "X=1, Predicted=[1]\n",
            "X=1, Predicted=[1]\n",
            "X=1, Predicted=[1]\n",
            "X=1, Predicted=[1]\n",
            "X=1, Predicted=[1]\n",
            "X=1, Predicted=[0]\n",
            "X=1, Predicted=[1]\n",
            "X=1, Predicted=[1]\n",
            "X=1, Predicted=[1]\n",
            "X=0, Predicted=[1]\n",
            "X=0, Predicted=[0]\n",
            "X=1, Predicted=[1]\n",
            "X=1, Predicted=[1]\n",
            "X=0, Predicted=[0]\n",
            "X=1, Predicted=[1]\n",
            "X=0, Predicted=[1]\n",
            "X=1, Predicted=[1]\n",
            "X=1, Predicted=[1]\n",
            "X=0, Predicted=[0]\n",
            "X=0, Predicted=[0]\n",
            "X=0, Predicted=[0]\n",
            "X=0, Predicted=[0]\n",
            "X=0, Predicted=[0]\n",
            "X=0, Predicted=[0]\n",
            "X=0, Predicted=[1]\n",
            "X=0, Predicted=[1]\n",
            "X=0, Predicted=[1]\n",
            "X=0, Predicted=[0]\n",
            "X=0, Predicted=[1]\n",
            "X=0, Predicted=[0]\n",
            "X=0, Predicted=[0]\n",
            "X=0, Predicted=[0]\n",
            "X=0, Predicted=[0]\n",
            "X=0, Predicted=[1]\n",
            "X=0, Predicted=[0]\n",
            "X=0, Predicted=[0]\n",
            "X=0, Predicted=[1]\n",
            "X=0, Predicted=[0]\n",
            "X=0, Predicted=[0]\n",
            "X=0, Predicted=[0]\n",
            "X=0, Predicted=[0]\n",
            "X=0, Predicted=[0]\n",
            "X=0, Predicted=[0]\n",
            "X=0, Predicted=[0]\n",
            "X=0, Predicted=[0]\n",
            "X=0, Predicted=[0]\n",
            "X=0, Predicted=[1]\n",
            "X=0, Predicted=[0]\n",
            "X=1, Predicted=[1]\n",
            "X=0, Predicted=[0]\n",
            "X=0, Predicted=[0]\n",
            "X=0, Predicted=[0]\n",
            "X=0, Predicted=[0]\n",
            "X=1, Predicted=[1]\n",
            "X=0, Predicted=[0]\n",
            "X=0, Predicted=[0]\n",
            "X=1, Predicted=[1]\n",
            "X=0, Predicted=[0]\n",
            "X=1, Predicted=[1]\n",
            "X=0, Predicted=[0]\n",
            "X=0, Predicted=[0]\n",
            "X=0, Predicted=[0]\n",
            "X=1, Predicted=[1]\n",
            "X=1, Predicted=[1]\n",
            "X=0, Predicted=[0]\n",
            "X=0, Predicted=[0]\n",
            "X=0, Predicted=[1]\n",
            "X=0, Predicted=[0]\n",
            "X=0, Predicted=[0]\n",
            "X=0, Predicted=[0]\n",
            "X=1, Predicted=[1]\n",
            "X=0, Predicted=[0]\n",
            "X=1, Predicted=[1]\n",
            "X=1, Predicted=[1]\n",
            "X=0, Predicted=[1]\n",
            "X=0, Predicted=[0]\n",
            "X=0, Predicted=[0]\n",
            "X=1, Predicted=[1]\n",
            "X=0, Predicted=[0]\n",
            "X=0, Predicted=[0]\n",
            "X=1, Predicted=[1]\n",
            "X=1, Predicted=[1]\n",
            "X=0, Predicted=[0]\n",
            "X=1, Predicted=[1]\n",
            "X=0, Predicted=[0]\n",
            "X=0, Predicted=[0]\n",
            "X=1, Predicted=[1]\n",
            "X=0, Predicted=[0]\n",
            "X=1, Predicted=[1]\n",
            "X=0, Predicted=[0]\n",
            "X=0, Predicted=[0]\n",
            "X=0, Predicted=[0]\n",
            "X=0, Predicted=[0]\n",
            "X=0, Predicted=[0]\n",
            "X=1, Predicted=[1]\n",
            "X=0, Predicted=[0]\n",
            "X=0, Predicted=[0]\n",
            "X=1, Predicted=[0]\n",
            "X=0, Predicted=[0]\n",
            "X=0, Predicted=[0]\n",
            "X=0, Predicted=[0]\n",
            "X=0, Predicted=[0]\n",
            "X=0, Predicted=[0]\n",
            "X=1, Predicted=[1]\n",
            "X=0, Predicted=[0]\n",
            "X=0, Predicted=[1]\n",
            "X=0, Predicted=[0]\n",
            "X=0, Predicted=[0]\n",
            "X=1, Predicted=[1]\n",
            "X=1, Predicted=[0]\n",
            "X=1, Predicted=[1]\n",
            "X=1, Predicted=[1]\n",
            "X=1, Predicted=[1]\n",
            "X=1, Predicted=[1]\n",
            "X=1, Predicted=[1]\n",
            "X=1, Predicted=[1]\n",
            "X=1, Predicted=[1]\n",
            "X=1, Predicted=[1]\n",
            "X=1, Predicted=[1]\n",
            "X=1, Predicted=[0]\n",
            "X=1, Predicted=[1]\n",
            "X=1, Predicted=[0]\n",
            "X=1, Predicted=[1]\n",
            "X=1, Predicted=[0]\n",
            "X=1, Predicted=[1]\n",
            "X=1, Predicted=[1]\n",
            "X=1, Predicted=[0]\n",
            "X=1, Predicted=[1]\n",
            "X=1, Predicted=[1]\n",
            "X=1, Predicted=[1]\n",
            "X=1, Predicted=[1]\n",
            "X=1, Predicted=[1]\n",
            "X=1, Predicted=[1]\n",
            "X=1, Predicted=[1]\n",
            "X=1, Predicted=[1]\n",
            "X=1, Predicted=[1]\n",
            "X=1, Predicted=[1]\n",
            "X=1, Predicted=[1]\n",
            "X=1, Predicted=[1]\n",
            "X=1, Predicted=[1]\n",
            "X=1, Predicted=[1]\n",
            "X=0, Predicted=[0]\n",
            "X=1, Predicted=[1]\n",
            "X=0, Predicted=[0]\n",
            "X=0, Predicted=[0]\n",
            "X=1, Predicted=[1]\n",
            "X=0, Predicted=[0]\n",
            "X=1, Predicted=[1]\n",
            "X=1, Predicted=[1]\n",
            "X=1, Predicted=[0]\n",
            "X=0, Predicted=[0]\n",
            "X=0, Predicted=[0]\n",
            "X=0, Predicted=[0]\n",
            "X=1, Predicted=[1]\n",
            "X=1, Predicted=[1]\n",
            "X=0, Predicted=[1]\n",
            "X=0, Predicted=[0]\n",
            "X=0, Predicted=[0]\n",
            "X=0, Predicted=[0]\n",
            "X=0, Predicted=[0]\n",
            "X=0, Predicted=[0]\n",
            "X=0, Predicted=[0]\n",
            "X=0, Predicted=[0]\n",
            "X=0, Predicted=[0]\n",
            "X=0, Predicted=[0]\n",
            "X=0, Predicted=[0]\n",
            "X=0, Predicted=[0]\n",
            "X=0, Predicted=[0]\n",
            "X=0, Predicted=[0]\n",
            "X=0, Predicted=[0]\n",
            "X=0, Predicted=[0]\n",
            "X=0, Predicted=[0]\n",
            "X=0, Predicted=[0]\n",
            "X=0, Predicted=[0]\n",
            "X=0, Predicted=[0]\n",
            "X=1, Predicted=[0]\n",
            "X=0, Predicted=[0]\n",
            "X=0, Predicted=[0]\n",
            "X=0, Predicted=[0]\n",
            "X=0, Predicted=[0]\n",
            "X=0, Predicted=[0]\n",
            "X=0, Predicted=[0]\n",
            "X=0, Predicted=[0]\n",
            "X=0, Predicted=[0]\n",
            "X=0, Predicted=[0]\n",
            "X=0, Predicted=[0]\n",
            "X=0, Predicted=[0]\n",
            "X=0, Predicted=[0]\n",
            "X=0, Predicted=[0]\n",
            "X=0, Predicted=[0]\n",
            "X=0, Predicted=[0]\n",
            "X=0, Predicted=[0]\n",
            "X=0, Predicted=[0]\n",
            "X=0, Predicted=[0]\n",
            "X=0, Predicted=[0]\n",
            "X=0, Predicted=[0]\n",
            "X=0, Predicted=[0]\n",
            "X=0, Predicted=[0]\n",
            "X=0, Predicted=[0]\n",
            "X=0, Predicted=[0]\n",
            "X=0, Predicted=[0]\n",
            "X=0, Predicted=[0]\n",
            "X=0, Predicted=[0]\n",
            "X=1, Predicted=[1]\n",
            "X=0, Predicted=[0]\n",
            "X=0, Predicted=[0]\n",
            "X=0, Predicted=[0]\n",
            "X=0, Predicted=[0]\n",
            "X=0, Predicted=[0]\n",
            "X=0, Predicted=[0]\n",
            "X=0, Predicted=[0]\n",
            "X=1, Predicted=[1]\n",
            "X=1, Predicted=[1]\n",
            "X=1, Predicted=[1]\n",
            "X=1, Predicted=[1]\n",
            "X=1, Predicted=[1]\n",
            "X=1, Predicted=[1]\n",
            "X=1, Predicted=[1]\n",
            "X=1, Predicted=[1]\n",
            "X=1, Predicted=[1]\n",
            "X=1, Predicted=[1]\n",
            "X=1, Predicted=[1]\n",
            "X=1, Predicted=[1]\n",
            "X=1, Predicted=[1]\n",
            "X=1, Predicted=[1]\n",
            "X=1, Predicted=[1]\n",
            "X=1, Predicted=[1]\n",
            "X=1, Predicted=[1]\n",
            "X=1, Predicted=[1]\n",
            "X=1, Predicted=[1]\n",
            "X=1, Predicted=[1]\n",
            "X=1, Predicted=[1]\n",
            "X=1, Predicted=[1]\n",
            "X=1, Predicted=[0]\n",
            "X=1, Predicted=[1]\n",
            "X=1, Predicted=[1]\n",
            "X=1, Predicted=[1]\n",
            "X=1, Predicted=[1]\n",
            "X=1, Predicted=[1]\n",
            "X=1, Predicted=[1]\n",
            "X=1, Predicted=[1]\n",
            "X=1, Predicted=[1]\n",
            "X=1, Predicted=[1]\n",
            "X=1, Predicted=[1]\n",
            "X=1, Predicted=[1]\n",
            "X=1, Predicted=[1]\n",
            "X=1, Predicted=[1]\n",
            "X=1, Predicted=[1]\n",
            "X=1, Predicted=[1]\n",
            "X=1, Predicted=[1]\n",
            "X=1, Predicted=[1]\n",
            "X=1, Predicted=[1]\n",
            "X=1, Predicted=[1]\n",
            "X=1, Predicted=[1]\n",
            "X=1, Predicted=[1]\n",
            "X=1, Predicted=[1]\n",
            "X=1, Predicted=[1]\n",
            "X=1, Predicted=[1]\n",
            "X=1, Predicted=[1]\n",
            "X=1, Predicted=[1]\n",
            "X=1, Predicted=[1]\n",
            "X=1, Predicted=[1]\n"
          ],
          "name": "stdout"
        }
      ]
    }
  ]
}