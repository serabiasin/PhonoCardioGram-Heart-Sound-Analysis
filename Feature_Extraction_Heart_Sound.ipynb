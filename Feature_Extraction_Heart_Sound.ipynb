{
  "nbformat": 4,
  "nbformat_minor": 0,
  "metadata": {
    "colab": {
      "name": "Feature Extraction Heart Sound.ipynb ",
      "provenance": [],
      "collapsed_sections": []
    },
    "kernelspec": {
      "name": "python3",
      "display_name": "Python 3"
    }
  },
  "cells": [
    {
      "cell_type": "markdown",
      "metadata": {
        "id": "eh5f2Dpmvafz",
        "colab_type": "text"
      },
      "source": [
        "# Dependency Installation"
      ]
    },
    {
      "cell_type": "code",
      "metadata": {
        "id": "SI0vz4qpiSfj",
        "colab_type": "code",
        "colab": {
          "base_uri": "https://localhost:8080/",
          "height": 122
        },
        "outputId": "8bb864b9-4b57-4714-b2e8-90b1618741f7"
      },
      "source": [
        "from google.colab import drive\n",
        "drive.mount('/content/drive')"
      ],
      "execution_count": null,
      "outputs": [
        {
          "output_type": "stream",
          "text": [
            "Go to this URL in a browser: https://accounts.google.com/o/oauth2/auth?client_id=947318989803-6bn6qk8qdgf4n4g3pfee6491hc0brc4i.apps.googleusercontent.com&redirect_uri=urn%3aietf%3awg%3aoauth%3a2.0%3aoob&response_type=code&scope=email%20https%3a%2f%2fwww.googleapis.com%2fauth%2fdocs.test%20https%3a%2f%2fwww.googleapis.com%2fauth%2fdrive%20https%3a%2f%2fwww.googleapis.com%2fauth%2fdrive.photos.readonly%20https%3a%2f%2fwww.googleapis.com%2fauth%2fpeopleapi.readonly\n",
            "\n",
            "Enter your authorization code:\n",
            "··········\n",
            "Mounted at /content/drive\n"
          ],
          "name": "stdout"
        }
      ]
    },
    {
      "cell_type": "code",
      "metadata": {
        "id": "Qep4WIpeinyx",
        "colab_type": "code",
        "colab": {
          "base_uri": "https://localhost:8080/",
          "height": 51
        },
        "outputId": "4372252e-5e25-4cba-a482-7b796d3c9468"
      },
      "source": [
        "!pip install PyWavelets\n",
        "!pip install pyentrp"
      ],
      "execution_count": null,
      "outputs": [
        {
          "output_type": "stream",
          "text": [
            "Requirement already satisfied: PyWavelets in /usr/local/lib/python3.6/dist-packages (1.1.1)\n",
            "Requirement already satisfied: numpy>=1.13.3 in /usr/local/lib/python3.6/dist-packages (from PyWavelets) (1.18.5)\n"
          ],
          "name": "stdout"
        }
      ]
    },
    {
      "cell_type": "code",
      "metadata": {
        "id": "EP738Tlcjoyg",
        "colab_type": "code",
        "colab": {}
      },
      "source": [
        "import pywt\n",
        "import librosa\n",
        "import numpy as np\n",
        "import matplotlib.pyplot as plt\n",
        "import librosa.display\n",
        "from scipy import signal"
      ],
      "execution_count": null,
      "outputs": []
    },
    {
      "cell_type": "markdown",
      "metadata": {
        "id": "1K57iGEOmbZP",
        "colab_type": "text"
      },
      "source": [
        "# Feature Extraction"
      ]
    },
    {
      "cell_type": "code",
      "metadata": {
        "id": "62agHZXq9t8d",
        "colab_type": "code",
        "colab": {}
      },
      "source": [
        "def energy_wavelet(coefficient,level_scaling):\n",
        "  Energy_detail=[] # ini per level scala hasil transformasi wavelet\n",
        "  energy=0\n",
        "\n",
        "  for skala in range(coefficient.shape[0]):\n",
        "    energy=energy+np.sum(np.array(coefficient[-skala])**2)\n",
        "    Especific.append(np.sum(np.array(coefficient[-skala])**2))\n",
        "\n",
        "    return energy,Especific\n",
        "\n",
        "\n",
        "def WaveletTransform():\n",
        "  pass"
      ],
      "execution_count": null,
      "outputs": []
    },
    {
      "cell_type": "markdown",
      "metadata": {
        "id": "vLz3w3GKnnMx",
        "colab_type": "text"
      },
      "source": [
        "# Utility Function"
      ]
    },
    {
      "cell_type": "code",
      "metadata": {
        "id": "S9OTrY5tQjw9",
        "colab_type": "code",
        "colab": {}
      },
      "source": [
        "def plot_wavelet(time, signal, \n",
        "                 cmap = plt.cm.seismic, \n",
        "                 title = 'Wavelet Transform (Power Spectrum) of signal', \n",
        "                 ylabel = 'Frequency', \n",
        "                 xlabel = 'Time'):\n",
        "    \n",
        "    dt = time[1] - time[0]\n",
        "    scale=np.arange(30,160) # scale=30-160\n",
        "    #objective : \n",
        "    # mencari rentang frekuensi 30 - 70 Hz\n",
        "    # localisasi waktu lebih diutamakan\n",
        "    # semakin kecil scale, semakin terlihat jelas perubahan terhadap waktu dibanding frekuensi\n",
        "\n",
        "    Motherwavelet=pywt.ContinuousWavelet('morl')\n",
        "    [coefficient,freq]=pywt.cwt(signal,scale,wavelet=Motherwavelet)\n",
        "    power = (abs(coefficient)) ** 2\n",
        "    period = 1. / freq\n",
        "    levels = [0.0625, 0.125, 0.25, 0.5, 1, 2, 4, 8]\n",
        "    contourlevels = np.log2(levels)\n",
        "    \n",
        "    fig, ax = plt.subplots(figsize=(8, 5))\n",
        "    im = ax.contourf(time, np.log2(period), np.log2(power), contourlevels, extend='both',cmap=cmap)\n",
        "    \n",
        "    ax.set_title(title, fontsize=20)\n",
        "    ax.set_ylabel(ylabel, fontsize=18)\n",
        "    ax.set_xlabel(xlabel, fontsize=18)\n",
        "    \n",
        "    yticks = 2**np.arange(np.ceil(np.log2(period.min())), np.ceil(np.log2(period.max())))\n",
        "    ax.set_yticks(np.log2(yticks))\n",
        "    ax.set_yticklabels(yticks)\n",
        "    ax.invert_yaxis()\n",
        "    fig.subplots_adjust(top=1)\n",
        "    plt.show()"
      ],
      "execution_count": null,
      "outputs": []
    },
    {
      "cell_type": "markdown",
      "metadata": {
        "id": "TyfTLnp_nq41",
        "colab_type": "text"
      },
      "source": [
        "# Load File "
      ]
    },
    {
      "cell_type": "code",
      "metadata": {
        "id": "2gueIeISjt0T",
        "colab_type": "code",
        "colab": {
          "base_uri": "https://localhost:8080/",
          "height": 34
        },
        "outputId": "1cf9a8d2-27ff-4e7b-cd04-6f3846bb11dd"
      },
      "source": [
        "sampelfile=\"/content/drive/My Drive/DataSetSuaraJantungPhysionet/Dataset/training-a/a0007.wav\"\n",
        "\n",
        "#read file,set to default SR from file\n",
        "#note SR File Dataset default 2000 Hz\n",
        "x,sr=librosa.load(sampelfile,sr=None)\n",
        "x=x[:int(sr*5)]\n",
        "\n",
        "#do bandpass filter\n",
        "sos = signal.butter(4, [25, 400], 'bandpass', fs=sr, output='sos')\n",
        "filtered = signal.sosfilt(sos, x)\n",
        "dt= 0.0005 #sampling rate\n",
        "N = filtered.shape[0]\n",
        "t0=0\n",
        "time = np.arange(0, N) * dt + t0\n",
        "print(x.shape)"
      ],
      "execution_count": null,
      "outputs": [
        {
          "output_type": "stream",
          "text": [
            "(10000,)\n"
          ],
          "name": "stdout"
        }
      ]
    },
    {
      "cell_type": "markdown",
      "metadata": {
        "id": "tCsrptS8qYh7",
        "colab_type": "text"
      },
      "source": [
        "# Plot Time Series"
      ]
    },
    {
      "cell_type": "code",
      "metadata": {
        "id": "e3tGLc1STtU5",
        "colab_type": "code",
        "colab": {
          "base_uri": "https://localhost:8080/",
          "height": 296
        },
        "outputId": "87021ed6-4027-4347-f0c2-d26feab1ae76"
      },
      "source": [
        "#plot Time Series\n",
        "plt.figure()\n",
        "plt.subplot(1, 1, 1)\n",
        "librosa.display.waveplot(x, sr=sr,color='black')\n"
      ],
      "execution_count": null,
      "outputs": [
        {
          "output_type": "execute_result",
          "data": {
            "text/plain": [
              "<matplotlib.collections.PolyCollection at 0x7fba499d1358>"
            ]
          },
          "metadata": {
            "tags": []
          },
          "execution_count": 21
        },
        {
          "output_type": "display_data",
          "data": {
            "image/png": "[encoded data removed]",
            "text/plain": [
              "<Figure size 432x288 with 1 Axes>"
            ]
          },
          "metadata": {
            "tags": [],
            "needs_background": "light"
          }
        }
      ]
    },
    {
      "cell_type": "code",
      "metadata": {
        "id": "Blek5Dc97tKJ",
        "colab_type": "code",
        "colab": {
          "base_uri": "https://localhost:8080/",
          "height": 296
        },
        "outputId": "6afa96b2-1bf5-4b3c-d066-162943e76001"
      },
      "source": [
        "#plot Time Filtered\n",
        "plt.figure()\n",
        "plt.subplot(1, 1, 1)\n",
        "librosa.display.waveplot(filtered, sr=sr,color='black')\n"
      ],
      "execution_count": null,
      "outputs": [
        {
          "output_type": "execute_result",
          "data": {
            "text/plain": [
              "<matplotlib.collections.PolyCollection at 0x7fba49a2ef60>"
            ]
          },
          "metadata": {
            "tags": []
          },
          "execution_count": 22
        },
        {
          "output_type": "display_data",
          "data": {
            "image/png": "[encoded data removed]",
            "text/plain": [
              "<Figure size 432x288 with 1 Axes>"
            ]
          },
          "metadata": {
            "tags": [],
            "needs_background": "light"
          }
        }
      ]
    },
    {
      "cell_type": "markdown",
      "metadata": {
        "id": "YwKRFY3M74im",
        "colab_type": "text"
      },
      "source": [
        "# Wavelet Analysis"
      ]
    },
    {
      "cell_type": "code",
      "metadata": {
        "id": "CZ8T8rTEdWVK",
        "colab_type": "code",
        "colab": {
          "base_uri": "https://localhost:8080/",
          "height": 35
        },
        "outputId": "c88c6eab-1da6-4e77-8628-263fc28df3b0"
      },
      "source": [
        "scale=0\n",
        "scale=np.arange(30,160) # scale=30-160\n",
        "#objective : \n",
        "# mencari rentang frekuensi 30 - 70 Hz\n",
        "# localisasi waktu lebih diutamakan\n",
        "# semakin kecil scale, semakin terlihat jelas perubahan terhadap waktu dibanding frekuensi\n",
        "\n",
        "Motherwavelet=pywt.ContinuousWavelet('morl')\n",
        "[coefficient,freq]=pywt.cwt(filtered,scale,wavelet=Motherwavelet)\n",
        "print(coefficient.shape)\n",
        "plot_wavelet(time=time,signal=filtered)"
      ],
      "execution_count": null,
      "outputs": [
        {
          "output_type": "stream",
          "text": [
            "(130, 10000)\n"
          ],
          "name": "stdout"
        }
      ]
    },
    {
      "cell_type": "markdown",
      "metadata": {
        "id": "WRIRTFpw798s",
        "colab_type": "text"
      },
      "source": [
        "# Plot on Frequency Domain"
      ]
    },
    {
      "cell_type": "code",
      "metadata": {
        "id": "axT785sUSkEK",
        "colab_type": "code",
        "colab": {
          "base_uri": "https://localhost:8080/",
          "height": 283
        },
        "outputId": "46728a00-22a0-4808-f656-3bf31ed14c29"
      },
      "source": [
        "#check frequency domain \n",
        "from scipy import signal\n",
        "from scipy.fft import fftshift\n",
        "\n",
        "\n",
        "f, t, Sxx = signal.spectrogram(filtered, sr)\n",
        "plt.pcolormesh(t, f, Sxx)\n",
        "plt.ylabel('Frequency [Hz]')\n",
        "plt.xlabel('Time [sec]')\n",
        "plt.show()"
      ],
      "execution_count": null,
      "outputs": [
        {
          "output_type": "display_data",
          "data": {
            "image/png": "[encoded data removed]",
            "text/plain": [
              "<Figure size 432x288 with 1 Axes>"
            ]
          },
          "metadata": {
            "tags": [],
            "needs_background": "light"
          }
        }
      ]
    },
    {
      "cell_type": "code",
      "metadata": {
        "id": "iiK5KlIsO4Q4",
        "colab_type": "code",
        "colab": {
          "base_uri": "https://localhost:8080/",
          "height": 75
        },
        "outputId": "d8d58718-e4e5-4e92-ca0d-f43a9794ae68"
      },
      "source": [
        "#test audio\n",
        "import IPython.display as ipd\n",
        "ipd.Audio(filtered,rate=sr) # load a NumPy array"
      ],
      "execution_count": null,
      "outputs": [
        {
          "output_type": "execute_result",
          "data": {
            "text/html": [
              "\n",
              "                <audio controls=\"controls\" >\n",
              "                    <source src=\"data:audio/wav;base64,UklGRkROAABXQVZFZm10IBAAAAABAAEA0AcAAKAPAAACABAAZGF0YSBOAAB9AFMD2gnMEDYS+AzPBf8Al/6U/AP6dver9ab0+fNk8/3y7fI387zzWvQc9Sb2gfcP+ar6Sfz2/b//mAFjAwAFYgaKB3UIJwmqCQ4KXQqyCjEL5QulDDANYw1BDc4MCAzzCpoJ/gcbBv0DvQGE/5D9E/wR+3X6Hfrj+ZP58PjX92L23fSj8/fy8/KB82n0cfV59nj3ePiQ+dH6O/y7/Sr/bQCBAXACTAMpBAQFzAVsBtMG9wbrBssGoAZcBvgFdAXUBCgEkQM0AxwDMgNAAxMDmQLsATIBfwDF/+r+6f3e/Pr7W/v2+qz6dfpm+p36LfsV/DX9X/5x/2cATAEhAtcCXgOoA7cDogOGA3EDTwPsAg8CpADE/qX8h/qa+P/2y/UK9b301PQ89fH1+fZG+MT5YfsO/dD+wgDuAjsFdwdnCeYK7Qt6DHkM1wu6Cn4Jhgj5B7sHjgdQBw8H7AbeBrgGUAaiBcQEvQN6Au0AMv+E/RP86fr8+Ub5zvia+Jv4sfjG+N74APkh+TX5Ofk4+TD5Gfkq+bj5l/ps+z38P/1v/p3/rQChAWUCvAJhAkgBwP9Q/mT9A/3g/Kn8Yvxk/BL9gP5kAE4C7QM+BW0GmwfDCMkJkAoACw0LuAoMCgIJrAdMBv8EqgNTAiwBYgDt/6b/bf8t/7/+6P2I/MT6Dvni93f3p/cf+LL4fvm5+m/8c/50ACMCTwPzAyAE9wOlA1cDFQPQAnEC7wFMAYkAsf/a/hj+aP3B/CX8nvsv+9D6gfpK+if6CPrv+er5//kf+kT6c/rH+lv7OvxU/ZH+1v8FARYCDwP5A8oEdQX1BVgGtwYdB3YHpAeXB10HLQdBB3AHWQfeBi8GeQXQBDkErgMUA0cCPwENAMb+fv1N/DD7CfrN+KP3zPaB9tj2wPcP+XP6X/tw++X6+vmN97Hx6+i74ZLh3+ow/LERCSekOBtEGUgqRLE4FCcKEoH9hO135CjimeR+6ePuGfOv9OvyI+5/52Pg8tnj1LDRx9CY0nXXSd9R6Tr0j/4zB6EN2BE5FE4VrhXeFTQWuxZNF7gX1heNF84WpxVPFBYTURIoEosSRBMTFLgUBRXqFG4UmhN0EgkRcA+qDZEL9QjBBRQCJf4u+l/22/Ky7+7skOqE6Krm7+RT49zhkOBX3wPehNwn28vartye4fjovfAQ93r7n/4bAd4CcAOwAhkBWP/Y/bz8Evzs+1n8YP0B/0cBPwTXB70LXg8eEqgTBRRxExsSGRC8Db4LoQpECoUKggs4DWEPphHAE2UVRRY3FlMV7xN1EiYRBBDbDnANuAvqCVAIAwfMBT4E/gEF/5T7DPir9ITxj+7H6zjp/OYl5bnjuuIk4vjhQeIK41Dk/uX15x3qc+zy7ovxHPSB9pz4efpH/Bb+1P+KAVwDQAUbB+0Izwq3DFoOdw8PEFEQaxCMENoQURG7EeoR8BEDEjISThIBEg8Rew+IDYwLwQk3CNsGkQVHBPUCkQEUAID+3fw++7r5ZPhE91v2qfUj9bn0YfQq9DD0dPTT9Cf1Y/WS9b317vU19qD2MffT92P48vjF+db63PvO/Mf9yP6+/7AAvwHnAvADmwTfBOwEAwVBBZYF4QUHBggGAgYlBpUGPgfeBy0IDQiKB8wG9AURBR0ECwPeAa0Ajf99/nf9f/yo+/36cPrt+Xr5M/ku+WP5vPku+sf6l/ub/L/98P4bADEBIwLoAncD1AMKBCMEIQQGBNgDnQNTA/QCawKmAegAmQCgAJgAbwBFABgAzf9e/+v+f/77/Tn9Q/xf+9P6rPqx+qf6fvpg+pP6Rftu/NL9J/8uAOcAfAEUArQCSQPEAyEEbQSvBOQECAUcBR0FDAXwBNoEzgS/BJcETgT1A6IDVwMJA68CTwLqAXcB8QBjAOP/fv8t/+D+gv4P/r79vf3V/dL90v3s/QX+AP7g/an9RP2U/KL7o/rV+Vb5HfkB+dv4mvhW+FL40vjo+Wb7+vxZ/lb/6/84AHIAxwBJAegBjQItA8kDXATaBDYFaQVtBToF0wRMBMMDTwPxApUCKAKpAScBsQBMAAAA4v8NAI0ARgEFAowCrwJeAqsByQDq/yb/hf4F/pr9Ov30/Ov8OP3U/av+3f9rAfoCPAQyBeoFYAaNBoAGRAbEBeQEsQNhAiQBDAAJ//z9wfxJ+7n5Y/iK90D3cffz95D4JPmo+R76ivrv+lX7x/tP/Pv80f3A/rP/nQCDAV8CJwPPA1YEwwQVBUEFQwUpBQIFzQR6BAcEgQP3AmsC2AE1AYIAw//9/jr+iP31/Ib8OfwK/PX7/vsm/Gn8uPwK/VH9jP3s/Z/+b/8sAOoAwgGpAokDYQQzBegFWQZ4BlwGLQYMBvIFuAUyBVoEVwNsAssBcQE0AeEAXQC0/wT/Zf7T/T39mvz0+1P7v/pE+vD5yPnF+eD5Ffpc+q76BPta+7D7Bfxg/MD8H/17/dn9Qv68/k3/7v+CAO8AMwFaAW4BcwF4AZMBzQEbAnECygIfA2UDnQPUAxcEWgR4BFYE/QOKAxQDoAJCAj8CqgItA5kDGwTaBK8FTQaIBlwGygXPBHADxwECAEz+ufwv+3z5ivd29WbzWPEv787sJOo551rkK+KB4SLjc+dC7tT2PQDICQYTnhsxI2Mp8y27MMUxTDGzL2MtpiqUJxUkBSBJG/4VkBBlC2QGHwFX+031i+9M6j/l8N9T2qvUJc8FyqnFL8L9v2LAq8TLzFnXceJt7EP0Tvkk+8D5e/X27g7n3t681wvTENLH1Z3eX+x6/gwUpitDQ8dYgmpYd51+/397e3FxtWKLUGY8qSePExYBFPFJ5ETbJ9aj1CDW1dnU3i7kE+nu7GXvYvAJ8JPuMOwN6WDlauFx3cfZydbd1GPUptXJ2MXdbeSE7Mz1+f+aCiQVBx/GJwQvdjTjNyw5UjiFNR8xiyswJWYeeRekEA8K3gM3/jT54vRE8V3uLuzB6h3qNOrS6rDrk+xW7dPt5u2H7c7s5+sF607q2emo6bbp+ul26jbrNexn7fbuDvGE8xH2nPgs+8T9YgAQA8MFSQhYCsYLqwxODfANqg5mD/0PYBChEN8QKhF6EaoRlBEkEWgQgA+HDooNiAxyCzQKwQgZB04FeQO5ASgA0v6w/bf84vsx+6v6W/pN+on6BPud+zr80vxp/Qr+wf6N/1IA9gBoAaQBsAGYAWcBKAHcAH0AEQCr/07/9f6k/lH+4f1Z/dv8c/wV/LH7Ovuh+tr56vjz9yr3uPau9gP3mfdQ+Bv5Cvo0+5X8Bv5G/x4AfwCHAH4ApAAYAdABrgKNA0MEuwT+BBoFCwXOBHwEQQQwBEAEYASLBMAE6wT1BNsEpwRfBAcEpwNGA+ECdwIPAsMBrQHHAfcBKQJZAoIClQKEAlECDwLHAXgBJgHbAJUARgDe/0//kv6p/Zn8afso+u741/fu9iz2kPUl9fX0//Q89af1PPbr9pv3OPjH+Fb58Pmg+nj7fPyi/eP+QQC8ATIDagQyBYUFhAVoBWcFngUCBn0GCweqB0wI3AhKCYIJdQkfCYkIuwe6BpUFcARsA5oC9gF9ATYBGgESAQsBDAEmAV0BpwHyASoCRgJKAjoCFQLQAWQB3ABUAN//fv8u/+r+n/4u/nj9h/yA+376f/l++Ir3sPb69Xb1L/VA9dP19faB+ET6CPya/cX+XP9W/8z+8/0P/UX8nPsW+9D66vpz+2H8k/3d/iMAZAG0Ah8EpwVZBz4JNgv/DGsOcQ8OEDMQ0A/yDrwNSgyqCu4IOgerBTsE2AKFAT4A2P4y/YH7FPrx+Pv3RPcF90337/eh+Db5n/nM+av5O/mf+Az4pPdk90L3Tvei90T4I/kt+mX7z/xh/gEAnwErA5UEyQW7BnAH8QdCCFwIRAj8B4MH0AbeBbkEhgN4AsYBmQH3AboCmgNJBH8EGQQdA6gB4v/+/Tn8wfqw+Q/5z/jW+Av5UvmN+av5uvnZ+SX6lvoK+3z7Evzj/N793P6//2cAxQDhANwA7ABPATQClQMvBaMGrQczCDcIzAcWB00GkwXVBNYDTwL5/yr8pfVE7BzjXd+k5DvzfQi6H9QzUkHWRh5EZTkWKIAT6/+Y8JjmYOEO4Onh4uUX6kHs5eoz5svfutlW1eXSItL40r/V+NrT4ubsJfgoA54MqhMeGGcaSBuJG7Qb9xs+HGAcRBzgGyMb8Rk1GP0VchPPEE4ODAwCChMIFgbhA0wBWv5N+5D4gfaQ9Wf2kfms/joEiwjNCjwLeArACNQFmwGK/D/3IvJ17YHphOac5MTj4uPK5EDm8Od16Xnq2+qt6iXqg+kI6enoSulF6vTrce7W8TT2h/ukATQItA6dFJwZsh0MIdgjMCYOKFgpACoXKrMp0yhaJyclMSKNHl0awxXoEP0LLwefAmP+fvrv9rPzz/BF7h7sX+oB6fDnJue45svmfOfE6G7qNOze7U3vdvBe8Q7ypvJV8z30YfXA9mH4QfpM/GT+awBXAiME0gVpB+YIQAplC0MMxAzeDI0M2gvaCqgJVAjZBi8FZQOhAQQAoP51/X78tPsW+6X6Zfpb+pD6Fvv2+yL9c/65/9UAuQFaAr0C9wIlA1cDkgPTAxEEQARPBCoEuQMJA1cC5wHSAQECRAJrAk8C8AFtAe0AhgBFACcAKABEAHUAqgDRAOEA2ADDALYA1gBBAeABfwL/AlEDZAM0A8kCIAIyAQQAuf58/Wf8efun+tn5+PgF+CH3f/ZK9pX2W/dw+JD5g/ot+5X73vst/JX8G/3C/ZH+iv+ZAKYBpgKUA2kEEgWGBbgFowVOBc0ELgR0A6ICxwH7AFoA+v/X/9z/8v8SAD0AZgCDAJwAuwDqAC0BegG0AdEB8AFBAtgCpwOMBGIFAgZFBhQGawViBB8DzQGQAH3/k/7D/QP9WPzN+2z7Ovs2+1n7pfsj/NP8nv1k/hb/sf8sAIMAvgDrABQBPAFhAYEBlgGcAZUBiQGFAZEBpQG8AdMBygF8AdwA8f/D/mH96/uJ+l35d/je95r3rfcQ+Kv4cflj+n/7svzy/Tr/fAClAaYCeAMgBLAELwWaBeQFAwboBZgFJgWoBCgEpAMXA38C5AFTAdUAZwAFALP/ev9i/2r/g/+p/+D/IABHADUA7/+P/y3/1f6Q/mf+YP5u/oL+k/6k/rX+w/7H/sr+3v4K/zf/Rv8x/wX/z/6c/nn+d/6i/v7+gv8bALQANQGSAdYBFQJIAlYCNwL/AcoBpAGCAU4B9ABwANH/Of/L/o/+hf6n/u/+VP/V/28AHQHWAZoCbANMBB0FsQXnBbMFFQUZBNsCgAEtAAf/Fv5R/az8L/zf+6n7dPtD+zP7UvuF+6/74vtA/MH8OP14/YD9c/16/aL94P0u/pH+Cv+L/wEAYQClAN0AHAFqAbIB2wHgAcoBmAFGAecAnQB3AHUAlADXADMBkgHnATECcgKtAuQCEQMfAwEDxQKBAj8C+wG7AYABSQENAc0AlQB0AHEAhgCsANwAAwEPAfwAzAB5AAQAg/8N/6f+Rf7h/YD9Kv3j/LD8jvx2/GL8U/xQ/GT8kfzS/B39a/23/QH+Vf63/iL/mv8lAL4AWwH5AZUCFwNdA1gDEwOoAjMCwgFaAQABtQBzAC0A3/+L/zT/2f6D/kf+L/43/lL+g/7U/kL/tP8TAFoAjwC2AMgAwgC5AMMA6AAbAUoBdAGaAbMBtAGmAZsBpAG/AeEBBwI2AnICrgLfAvsCBwMaA00DmwPvAzMESQT+Ax0DmAF4/9H8yvmV9k3z7O9W7GroT+TB4OXes9+O4yPqi/LB+xIFRA5GF+UfpifiLQ8yADTuM0YydS/RK4EnkyIyHaAXBxJvDNwGcAFY/Hb3TvIz7OXk6tzo1PPMBcWYvU+3r7JEsKmwcLTuu77G2tND4hDxF//rCmUT7BeJGOQVCRH6CqAEJP/t+xz8IwD9B2ATiCE3MfZAWU8iW21juGfKZ4pjAlt+TpY+FCz2F3YD/O/r3lrR2sdowpPAtsEmxUbKgNBL1ybeleQl6oXujfE084jzrvLb8EruNOvd55rk3+E84EXgXuKo5grtQ/Xn/mgJMBSuHlcosTBWN/Q7VD5iPjo8GjhHMhMr4yIxGmYR1QjPALn56/OJ73LsUurO6KnnweYF5mrl7+Sn5KnkCeXP5ffmaegB6qPrRO3g7mXwsfGx8mjz6PND9IT0tvTm9C71svWW9un3nvmN+4T9Yf8ZAboCYAQuBi4IRAo+DPwNfg/SEAESBRPPE1wUrhTGFKYUUhTKEwQT+hG+EHEPLg7wDKsLagpACScIEQcEBgkFHwQ8A10ChQG0ANn/4P7L/bf8yPsS+676x/p3+6T86f29/qT+ZP0j+0r4RfVM8nDv2Ozj6vLpMeqQ6+7tLPEk9Yr57/3oAToF3AfbCUQLHQxqDDQMgwteCtgIGQdJBYIDzgEuAKz+VP02/GL72fqY+p/66PpN+6H7yvvR+9L75vsR/ET8ePyt/O38TP3l/cD+wf+4AIYBLALEAmsDKAThBGoFpwWdBWEF/ARiBIYDZAL9AGL/tP0e/Lf6kfnE+Gf4fvgA+ef5LPvA/IX+UwABAnIDpASkBX8GNQe1B/IH+QfvB+4H5Qe3B2EH7QZgBrQF9AQtBFoDaQJUATQAK/9L/pH94fwR/Aj7z/mF+ED3FPYc9XD0HfQp9I/0OfUL9uz21ffO+OL5B/sl/DL9Ov5L/2UAiAG9AgAEMAUrBt8GRgddBzcH+wbTBtkGCwdNB4cHsQfUB/cHFwgqCCsIFQjkB5IHFQdlBo0FpwTJA/sCOAJ2AacAxv/c/v39Mv11/Lb75fr++RH5Mfho97r2NPbf9bv1zPUX9pn2RvcU+AH5Cfok+z78Rv0u/vj+r/9dAAIBmAEgAp0C/wIuAyYD+QLCApoCiAKFAoICgQKLAqQCwQLbAvQCEAMrA0MDYQONA7wD2APSA6sDaQMVA7cCWAL7AaIBQgG/AAYAJv9L/qD9Lv3h/KP8ePxx/JL8y/wG/Ub9mv0O/pb+GP99/8P//f89AHwAnwCbAIUAgQCkAOgAOAF9AagBswGYAVgB/gCZADoA6v+u/5L/of/Q/wUAMwBaAHYAewBjACsAyf89/6D+Hv7S/bj9vv3b/Qz+Rf53/p7+xv7y/hf/LP83/0L/R/88/yj/IP8n/y3/L/8//3T/0P83AI8AxQDNAKwAdQA7AAsA8//+/ygAXAB+AIUAgwCQAK8AxQC5AIIAMQDn/9f/IwCIAGIAXf+K/Vv6aPT56xTlP+Uz71MBRRcrLB08qUSeRNg7uCuzF14EMfUd63flk+Mc5SHpgu2670TuZOnM4oncAdia1RbVOdYh2RjeJOW+7fD2tP8wB88MLxBjEXURQRJSFbUa9iBwJnAq8izZLdks8SmLJRcg5Rk/E2gMpwVQ/5f5c/Tq72DsXuoM6gPrl+wr7lfv8u/673jvi+587bzsqexv7QbvPPHL83T2E/mU++P9/v/9AQEEEAYUCPAJjQvaDMMNLw4YDoUNiAwmC10JNwfXBGsCFADc/cr7//ms+P33/feP+H/5jfp9+yf8h/yv/Ln81Pw4/fz9AP8FANcAXQGbAacBnQGSAZoBxgERAmgCugL4AiMDQgNdA3IDdQNnA1EDOAMcA/4C2wKbAikCjgEAAcAA+QCpAZgCdgP7A/ADQAMHAocAD//d/Qj9h/w9/Af8zPuM+137WfuA+777APw9/G38hfyL/Jj8xvwS/Wn9xf0u/rL+U/8IAMMAbAHsATkCTAImAtQBdQElAQABEgFMAZIB0AEAAh0CIQIUAgcC9QHCAVUBuwAjANT//v93AMsAvACNALYAYAFKAh0DwgNYBPkEmQUUBk0GOwbgBTUFKQS0AuoA9f78/B/7cvn/98n21/Ux9eP09PRi9SP2J/dl+M35P/uR/JX9PP6e/uf+Pv+w/zcAwgBIAdEBagIOA58D+AMOBO0DswOBA2wDeQOeA9wDNwSzBFAF/QWYBvoGFAfuBp8GMQaiBe0EFAQdAxIC+wDe/7/+rf2x/M77A/tT+sP5Vfn9+K/4Zfgn+Ab4EfhS+Mf4Zvkw+iH7IPz//KP9Gf6H/g//v/+YAJQBoQKoA5EEPAWMBXwFKwW/BEsExAMfA2cCuwE4AeIArgCQAIcAlwC7AN8A+gAaAVMBtwFDAugCkAMlBJ8E/wRBBVUFMwXgBGUEzwMlA2ICgAGKAJb/tv74/WD96fyI/D/8GPwO/A78A/zt+9j7z/vT++X7C/xK/KH8Af1Z/Z791P0M/lP+of7d/vL+5/7Y/tn+8v4g/2j/zP86AJgA1AD0AAYBEAENAf4A7gDnAOQA2QC/AKAAjwCaALsA4AD9ABIBJAEyATMBIwECAdQApAB+AGkAYQBfAFgAQAATAOb/yv/C/7T/f/8P/3j+3f1T/dv8ePxL/IH8JP0N/v3+yP9gANUAPAGiAfwBQwKAAsECEQNsA8oDKASLBO8EPAVbBUkFBwWRBOcDGQM6AloBjQDv/47/Yv9K/zH/E//x/tr+5/4j/3b/qv+K/xH/Wf5//ZT8r/vx+m76IPrw+dH5v/m6+cT54fkV+l36sfoH+1n7rfsK/Hn8/PyS/Tv+AP/l/9wAyQGUAi8DogMCBGsE5wRnBdYFJgZRBlQGNwYGBrYFOwWsBBoEgwPqAm8CNwJEAnACogLmAkUDqgP7AyQEGATFAy4DaAKJAZkAof+r/sT99Pw2/If77/p8+jf6J/pE+nT6ofrJ+vn6Qfun+yb8q/wh/YX93P0m/lP+Uv4n/vP92f3w/Tv+s/5I/+P/bADjAFMBxQE7ArQCMAOuAzAExQR5BUAGAQegBwsIPAg1CPwHnAcgB48G4gULBQAEugIzAXT/mP3K+yH6p/hm9272x/Vp9UH1OfVU9an1QfYK9+n30vjL+eH6Fvxc/aj+/f9XAbUCEQRaBXAGOAehB6gHUAeWBoYFQgT4AsUBvQDp/0f/2v6h/oz+gf5k/jL+Bf4C/jT+gf7G/vj+K/+D/xcA5gDVAckCyAPfBOoFkQaVBgEGDgUCBBYDawL2AYwBDAF2AN//WP/2/tb+Df+O/zgA+QC+AWICvgLIApACNwLjAZ8BZQE0AQUBugAzAHX/kv6M/UD8nfrh+HP3l/ZK9mD2qvYW9533PPjw+LT5ePoq+9T7h/xD/fv9of4t/6H/AgBeALkAAgElAR0BAQH4ACkBogFKAvcClAMkBK4EHwVdBWkFaAVWBe4E8wN0AoEA7f2F+m/2/fGS7crplefh5y7rWvG++X8D6Q2GGAgjDC34NQk9ikEZQ9dBRT70OEYyfirWIYoY2g4RBZT72fI8687kSN9F2m7VcdAQy07FUr8IuUaygavVpReifKA9oeik7asftoXCy89O3WPrZvr8CVwZ6idaNWBBY0vYUs9X11p1XOFcElzUWdZV+0+3SPJAgznQMsgsGCc/IbkajRNMDEQFLf6i9sXuOOeh4ErbPtdx1LPSn9HI0ALQa886z3/PFtDM0JjRqdJT1PnW7NpJ4OHmP+7C9c/86AK3BxILDw3qDegNPw0eDMkKiwmrCGII4QhVCuQMihADFd0Znx7eIjkmTSjWKL4nLSVwIdQcnBf8ES4MdQYLASX89PeX9P3xBPCW7q7tQO0p7TTtK+3q7G/s1etA69bqwOoX69Lr0ewG7mzv9PB+8u7zOvVV9ir3uvcj+JD4Ivn1+R77nfxW/hgAuwE2A5oE+wVVB5IImAlRCr0K/gpKC9YLuQzZDeoOoA/kD9QPnA9UD/oOjg4YDqUNMg2hDNYL1grPCe0IMQh3B5gGigVrBFsDXQJWAS8A6P6K/Sj82Pqc+V34CPet9Xj0h/Pg8nTyKPLp8cbx5/Fn8krzePS+9eL20feT+DX5xvlk+hj7xvtJ/Jv84PxD/eD9tP6s/6YAgAEuAr0CQAO4AyEEgATaBDQFmgUdBsEGhQd6CKsJ6wrZCx0MoQuLChwJjwcSBswE0gMZA4EC9gGBATUBDQHxAM8ApwB/AFUAJgDx/63/VP/Z/iv+Pf0e/AD7GfqC+TP5DvkD+RL5P/mQ+Qr6q/pl+x38tvwi/Wv9oP3G/d798f0K/jH+aP6g/rz+pv5q/iz++P3A/Xz9QP0p/Tf9VP1y/aH9/f2W/mD/PAAdAfwBzQJ6A/QDPQRnBIsEsQTCBJMEDwRKA3MCwwFcAUYBbgHDAT4C0wJdA7YDzwO+A6MDmQOpA8gD3QPJA3sD+QJVAqMB+ABWALT/C/9h/sH9Kf2Z/C78Gvxz/Br91/2B/gz/cv+l/53/Zf8j/wD/Af8E/9T+T/54/XT8dfuo+iv6BPol+nj69Pqi+338af1L/iP/BgD0AM0BdgLlAiEDPgNZA4kD4QNvBDAF/wWoBhIHRQdTB0UHGwfXBoAGGgacBe0EAgTqAsgBvwDn/07/B/8L/x7/7v5U/nD9gPyu+/L6LPpF+U34Zveq9h72wvWh9cr1Pvb09t736fgA+hn7Nvxe/Y3+vf/kAPMB0gJwA9YDHwRsBM0EQAW3BSwGqAYwB7AHDAg0CCYI7AeNBwkHaAbDBToF2ASVBFAE1QP7AsABSAC6/in9nPsg+sr4q/fH9hj2nvVp9Yn1/PW19qb3xfgH+lj7ofzI/cL+mP9lAEEBMAIqAx4E+ASwBU0G0QYnBy0H3wZaBsIFKwWgBCsE0gOEAyIDmwIAAm0B6wB/ADUACwDf/3j/sf6T/V78V/uu+m/6hfrS+kX72/uH/Cb9cv0D/bL7vPm99kbxr+mh5Fjosff4DygqtD5pSTJKyULENBMiAg4//KruEOXi3kfcOd1S4PLip+KW3rnXXtB1y5PLgdGV28/m+PDL+VACTQtJFMYbNSDtIIsebRrtFfUR9w4dDUMMAwzwC84LdAugChwJ7AZUBL0Bf/+z/Vj8gPtP+8X7qfyz/df+SAA1AooECwdoCUYLWAyLDAIM/Aq7CWYI+AZOBUIDyAD2/e362vfp9EnyI/CO7o/tIO087dvt8e5j8AnywfNy9RP3ofgi+pv7DP1x/sb/BgEpAiYDCQTnBL8FdAboBhwHLwdGB3kH0wdPCNQISAmbCcwJ2wnNCaIJUwnYCDYIfAerBqIFQQSeAvUAbv8J/sL8ofuk+r355Pgi+If3GPfY9sn26fYk92v3xfdK+AX55/nO+pr7P/y5/Ar9Pf1y/c79Xf4L/7v/aAAeAe0B0QK+A6EEbQUaBpgG2AbRBpAGMQbOBWwF+wR1BO8DjQNZAzID8wKPAhIClQEkAbYAOgC3/0L//v4B/0z/zP9WALQAtQBEAHv/lv7S/Un9//zz/Bf9S/1w/Xz9gf2U/bT9yv3C/aL9fP1i/WD9ef2h/cj96P0C/hz+Qv58/sv+Iv9p/5T/qf++/97//v8UADMAbwDHAB8BZQGjAeYBIgI+AjICEwL8AewB1wG4AZ4BigFeAfkAaQDi/4r/af9t/4D/jf+O/5D/pP/Q/wQARADFAN4BjAMmBdMFNgWgA6gBuf/2/Xf8XvvN+sn6Nvvo+7j8kf1p/jf/7v+JABsBtgFWAukCZwPbA0wErwTeBLsEQgR9A3QCPwEPABf/b/4V/vT97/36/Rv+XP6+/jD/l//l/x8AWQCYAM0A4ADFAIsASgAJALz/Wv/w/pP+SP4P/un93P3c/cj9iv0q/b78WPz9+637bPtH+1L7pftC/Bb9Af7n/rz/hgBWASICywIzA08DLAPuArgClwJ7AkIC2wFKAaMA7P8h/0r+hP34/M38Hf3s/Rr/YwCAATcCcwI7ArIBEQGSAGIAjwAEAacBZgI2AwkE0QSIBSUGkAanBlsGvQXkBOEDzwLdATIB1QClAHAAGACh/yD/ov4t/sv9iv1z/X/9mP2t/ar9ff0U/Xf8x/sv+8P6hPps+nv6qfru+jv7h/vQ+xv8a/zA/Bf9Z/2j/cf94f0I/kb+oP4Z/7D/WAAHAbYBaAIfA9MDbQTWBAIF8ASwBGsEUQR/BPsErQVkBu4GMwdEB0UHSwdFBwcHawZsBSoE2AKeAY0Aq//y/lT+uv0X/YL8MPw8/G/8W/ys+2z66vh49zb2I/VL9NHz1/Nd9Ez1ffbP9zD5nfoV/JD9//5OAGsBTAL+Ap8DQATWBEQFfQWLBXUFQwUNBe8E+AQYBTgFTAVbBWkFewWeBdoFIgZaBnAGZQZCBgUGrgVFBd4EhQQsBMUDXwMVA+cCowL8AcAAAf8N/UD71PnF+O33Kvds9rn1GPWU9Dn0F/RA9L30hPV09l73JfjK+Gf5GPro+tf74fz6/QX/5v+fAE0BCgL3Aj4E6AWtBxcJ1wntCYUJxAjCB5QGVgUvBEIDnwI+AgkC+AEQAlYCyQJkAxwE2AR3BegFKQZJBlEGMgbRBR0FIwQNAwkCLAFrAMD/M//Q/on+OP7H/Tv9u/x+/K38Pv3f/Qr+Tv2H++v46vUD86nwKe+n7h7vafBR8qX0Pffx+ZP88/7mAGECcwM7BNcEVwW5BfQFEgYuBkkGRAYFBpEFDQWaBE4EMQQ5BF8ErQQqBc0FdAYIB3wHyAfnB+EHxgegB20HHgekBgYGVAWPBKYDjwJZARsA4v6r/Xj8Ufs/+lX5qPhC+Bz4Ivgw+CL48Pey94D3XPc89yX3J/dI94n35fdM+LX4I/mf+S/61/qX+2L8Mf0D/tX+of9rAD4BIgIaAxwEGAX1BZgG8AYDB+YGrgZiBhEG3gX/BZgGhQdiCNYI0giDCCAIuQc8B5YGxQXXBNUDwAKXAWwAX/+D/t39aP0a/eb8yfy9/K78ffw1/Af8F/xR/H38ffxh/Ev8Tfxm/IP8jvx2/Dr83Ptf+836Rvrw+eP5IPqU+in71fuO/Ej98/2E/vv+av/e/1QAxwBAAdIBfgInA6gD/ANCBJQE8ARJBZ0F8gVDBokGyQYLB04Hewd8B0MHzQYNBvoEpAM7Au4A0P/f/ib+tP2B/XL9a/1b/Tj9Cv3V/JX8TfwH/ND7ufvL+xH8ifwf/av9//0G/tj9pP2H/Xj9Wf0h/ez85vwi/ZP9J/7P/nj/BwBkAJQArgDHAOQACAE6AYUB5gE9AmQCVQImAuoBpAFUAQYBvwB4ADUABADt/9z/xP+q/5v/jP9m/yr/AP8K/0T/n/8gAOUAFALDA9EFywcXCUIJRAhzBkwERQKqAJr///6s/nn+Uf4w/g3+5/3R/dn95/3M/XD93vwz/IL70/o1+tr58vmJ+mz7R/zc/CL9Ov1M/W/9ov3a/RD+RP6F/uT+af8RANAAkwFRAg4DxwNvBPsEZgWqBbUFeAX4BFEEpAMEA34CGAK8ARcB7/8G/6//4gH5A7YEWQSpA+kC5gGMACf/Gv6H/Vf9a/2u/QT+Sv5e/j3+A/7O/aX9i/2J/aT91f0P/kv+hP65/tr+0v6R/hv+hP3r/Gr8G/wk/KP8iP2R/nL/AgBLAGAASQAEAJf/Ff+d/kT+Df4B/ir+jv4h/9L/iQBCAfsBsQJXA+YDXAS2BO4EDQUaBQsF2gSUBEwEFATrA90D+AMoBDME8gNsA70C/wE9AXwAzf9A/9P+dP4f/t/9uv2o/Zj9hP1u/VX9Jv3G/Dr8t/t6+5P76ftY/ND8Sf27/Rf+W/6W/tX+DP8Z//D+rf6D/qD+Df+s/0sAyAAeAWIBnQG4AZ0BXAEXAdIAhwBAACMAQQB/AKgAmQBUAP7/z//p/y8AZwB3AHkAhgCTAJcAnACvALwAnwBLAOH/mP+S/8n/IwCKANIA1QCYAEsAHAASABsALQBYALEAKQGPAbMBigEwAcMASgDI/1z/PP+D/xgAyQBkAcwB+gH3AeIB2wHrAfsB7QGzAVoB/QCpAFUA9v+P/y3/2f6V/nn+nP7y/kb/a/9T/xL/w/5w/hf+v/1j/fL8dPwH/Mf7q/ul+8T7LPz3/C/+0v+0AWkDXQQYBIYCAAAq/a36DvmU+D35zPrl/BP/2QDsAUwCKQLBAVABBAHlANMApQBZACAAQADnAAsCbgPKBPYF9QbQB3QIwgizCFAIswf2BjAGbAWnBN4DEANCAn8B3ABeAPH/g/8k/+7+4P7Y/rn+ff4b/n79lfxo+xv64vju91n3Ivc59373y/cE+Cf4SfiJ+Pj4jvlC+iH7OvyD/db+EgA2AU8CbgOYBMAF0Aa/B4IICAk7CQMJVAgxB7oFFgRsAt0Ai/+K/tj9Zf0Z/er82fzl/AP9Mf19/e79e/4V/7f/ZgAVAa0BHgJlAoECdQI9AtYBSAGkAAAAaP/n/nn+Cv6P/Qr9ivwu/BH8QvzA/Ib9hP6V/4YAMwGUAcgB8AELAgYC2wGgAXABVgFSAWEBegGIAWsBCQFoALH/EP+a/lX+Pf5O/oX+4P5g/w0A7wD1AfoC2gOLBCEFpgUGBiMG/AWqBUMFywQ8BJkD9wJwAgYCiwHFAKL/S/4L/Q/8Tvui+vj5afkg+Sn5XvmB+Xr5b/mT+e/5bPoJ++n7Gv1t/of/JwBRACwA4v+A/wj/gP4P/tb9zf3R/eH9IP6g/kH/zv8gADoALgASAAkAUQAmAY4CRwTmBR0H7AeJCBYJiAnRCewJywleCbUI5AfWBmAFiQOMAZ7/0f05/Mv6AfnM9WDwEeln4XnbDtnc2l/gUuhw8R77hwUQEYgd5SnBNAQ9J0IyRI1DyUBWPFs2vi59Je0arQ+BBA76jfAR6LrgLNpo07jLesOvu/+0b6/YqoinNaZHpzeqEK56suC36r5JyADVPeaC/KwW4zHXSkVfRW6Md8t61XfybuBgt07tOW4kbhDg//nz8+xh6hHs8/HV+hwENgvlDiUPfgyWBzoBjfrR9N3wsO667Y/tOO7k73PyafVB+MX6+vzZ/jwABQE1AbQAM/9m/G749PPM74jsQ+rg6G3oIun16m/tIPAb89v2z/sSAmUJQBH8GOQfXiUHKZsq2ymaJgYhzxn+EYIKzgP4/Rv5b/UM88rxZ/G08X3yYvPj87bz7/LI8WHwxu4Y7aTrtOpX6lfqfurS6obrs+xG7h3wI/Jc9NT2gfka/Dv+nv9QAJsA3ABsAYcCJQT3BY8HtgiRCWQKTwtADB8N5g2ODvkOEQ8CDysPwQ+GEPoQxRD9D/QO3A2tDGsLPwpPCasIMQiDB0MGbQRdAnUA0P5P/dv7ffpG+Tn4Vvew9mP2dvbR9j/3hveL92D3OPdM97f3eviD+a36t/tx/Of8Tf20/Qb+TP6z/lH/CQDCAIsBegJzAzcEuAQbBX8F1QUDBhMGFgYHBsQFLQVLBEsDSAI3AQgAxP6C/Vf8UPt6+uT5jvlr+XP5rvk6+i/7dfzG/eL+uP9CAH0AhACoACwB9AGZAtUCwwKsArQCyQLTAtsC9AIKA+oCewLSARYBYwDU/4b/g/+r/7f/eP/u/j/+if3f/Fv8FPwP/Dn8dvy9/B39pP05/pb+e/7i/Rv9l/x//Jj8kvxR/Pf7rfuB+3n7o/sR/M382f03/88AaQLOA+oEuwU3BlUGIwbHBXoFcgXGBVoG4AYEB6gG8gUkBW0EyAMMAxYCAAEVAJr/iP+i/7D/vf/u/zwAaQA3AKL/0/70/RH9Jvw++3r6CfoL+nj6KvsJ/AP99v3A/mH/7/9sAMQA7QD6ABABRwGjARwCnwINA00DWQM2A94CXgLZAXEBMwEVAfwA1wCvAJcAlACNAG0ALwDY/2v/+P6r/qD+wP7R/rf+gf5U/kz+a/6v/h//wf96ABMBWwFQASAB/wD7AAAB+ADfALkAfgAeAJz/E/+d/kH+8v2b/ST9gvzd+4P7pPsW/Hr8mPx//GX8aPx5/IT8jPyc/Kf8qfzD/C79D/5O/5gAmQE5AqYCIQPUA7wEsgWCBgYHJgfnBm0G7QWOBVcFKQXDBPYD5gLgAQkBVwDB/0r/6/6L/h3+tv14/WL9Vv1D/UD9bP3L/U/+5P52/+v/OwBzAKIAxgDbAOoAAgEqAWgBpwG7AXgB2wAHADX/mf5S/ln+gv6k/qf+mP6m/gb/w/+lAG4BEgKtAkgDtgO+A0oDZwI2AeH/mv6b/Rr9JP2N/QL+P/4u/u39kv0R/Wz8y/tN+/P6yvoH+7T7i/wz/ZH9vP3Q/c39sv2O/X79m/3u/Xn+N/8KAMUAYAEgAlIDxQS7BZwFeAS2AnkALP3Q9zDxm+0d8vf/ERQbKYY5vkGUQRI7HTCmIdcQ8f9D8czlfd122CvXaNnF3RHiS+SR44jg+Nyj2lva+Nvb3pPiMOcM7R/0svvTAvEI0w1lEaUTqxTAFE4UsRNFE5UTHBXnF38bDR+gIaEiMSKzIBMe7hlTFPcN1we1Atz+NfyW+sL5Wvnp+B/4//bR9dL0BfQ88zny2vA574jtz+vn6eTnP+Z85bPlpOYh6E3qbe2S8XP2iPtQAIAE9gekCpcM7A27DhwPPQ8yD9wOCA6iDMUKqwiXBrkEKQPvARABkgB2ALUAQwEKAu8C3wPKBKgFfgZSBwwIdAhYCLgHuwaUBWMEKgPdAXQAAv+s/ZX8w/st+776YvoG+rX5l/nH+Sv6lfr8+nH79/t3/MT8tvxN/Kv7APt1+i76Pvqb+h77kvvj+yD8Vvx5/H38dvyL/NL8Pf2z/TP+2v7E/+AABQIeAzsEZQV8Bk8HxQfsB+gH4Af1BycIVQhVCAUIWAdaBisF5gOjAoMBpwAQAJb/G/+4/p3+0v45/57/3f/+/yUAbwDFAPMA1wB+AAkAjv8V/6r+U/4I/qr9NP3d/Ob8Tv3C/fL95f3k/Rf+T/4z/pP9lPyc+/j6nvpa+iP6F/pD+pT6BPuS+yv8pvzp/PP85fz1/Eb9yv1q/iv/FQAKAdoBfAIZA9UDqARnBfsFfQYcB+kHvghJCU8J2AgmCF8HcwZOBQwE4gLsAS4BrQBiACUAxP9L//z+4/68/lL+uf0j/an8UPwi/BP85PtS+1z6U/mh+H34yvhH+dz5oPqc+6n8nf10/kf/LAAsAS4C7AIvAxYD+wIWA0QDRAP0AmgC1QFqATwBTwGpAUEC8QKTAw0EVARuBHMEbARgBGAEgQTABAgFUwWSBZcFOQWHBL8D/QIwAkYBTABh/5b+7f1E/Wb8MvvC+WL4WPfD9pX2sPbl9gD37vbA9p72sfYF94H38/c7+GX4mfj8+J35evp++4v8q/0T/+MA8ALpBKkGPwipCbsKZAvRCy0MagxhDAsMgQvGCs0JmghHB/0F4gTsA94CkAEoAOr+9/1R/fj85fwG/T79c/2Y/bH90f0P/nT+9P5d/17/zP7c/fb8Y/ws/DT8a/zb/HP99P0g/ur9c/33/Lj86fyS/X/+XP/f//3/7P/x/yMAegDmAEQBVgH8AGcA5/+c/3X/ZP94/8D/GABOAFIAQQA9AEgATQA+ACcAIQBAAIYA5QBhAQMCtAI8A20DVgMwAyMDKQMuAyAD8wKZAhgCigEDAXUA0P8Y/2P+zv1y/VP9Vv1d/W39nv3o/Sb+Sf5U/j3+8/1//QL9qvyf/Ov8bf30/Wr+2v5V/9f/UgDLAFwBBgKjAgUDFQPZAnECFQL1ARoCZAKwAusC/ALLAl8C3gFeAc0AGABN/5D+/f2O/S79y/xj/P/7vPvA+yH8yfyF/R7+ff6+/gb/Vv+j/+X/EAAeABAAAAAQAE0ApAAJAYUBEQKKAtMC9QIKAxoDBQOxAiACWgFcADL/CP4Q/V388/vg+yX8sPxr/Ur+Mf/q/1EAjgDuAIsBPQLNAiwDfAPqA3EE1AToBLMETAS1A+UC7wETAZoAlQDVABUBIwHzAJgAMQDW/5f/hf+o/+z/KABIAEsAQQAwAP7/gP++/vf9b/08/U79g/3A/Qr+dv4E/5n/AAABAHD/Sv7A/Cb73/lA+Wj5KPoo+yL8Df3+/fL+x/9iANEANwGkAfsBGwIIAuYBuwFhAb4A9/9W/w7/Fv9H/4z/3v8iAEEAPAA1AEIAZQCZAOIATAHMAToCdwKAAmUCOgIgAjcCewK1AqACGgJEAW4A4f+p/6L/qv/R/zQAzABfAbgB1AHYAeUB9QHyAeMB4wHqAccBWQGyAA4AqP+S/77/AAA3AFMAWABNADYAFgD//wYAIgAdAM//Nf9//tv9Vf3e/HH8IPwE/Bz8Tvx+/J/8tfzX/Bj9cv3G/QP+Nv55/tT+O/+f//b/MgBTAGEAawBwAG8AcACCAKsA2gDyAOsA4QDuABcBVwGpAfQBGQINAtoBhwEcAbAAXgAtAB0AMABlAJcAlgBGALX/Dv+J/kr+V/6f/g//lf8kAMUAewErAqcC5QL7AgID+ALbArUCmQJ/AjsCqgHlADMAyP+b/4X/aP86//n+uP6c/sH+HP99/77/2P/j//r/LABzAKsAuQCjAIoAfwBvADcA1f9o/xD/yv6I/k7+Kv4U/vD9tf1v/ST9wvxF/Mb7YPsW++P6xPq6+s76Ffum+4D8ff1v/kD//f+3AHMBKwLpAsADpwR5BRcGgwbHBt0GtwZaBtkFSAW1BDAE0wOkA48DYQP8AncCEALsAfgBCgL5AagB/QD9/8j+j/1z/Ir76/ql+q/67PpI+8H7UPzg/FX9n/28/bj9pf2L/Wr9Tv1G/Uv9T/1l/br9Tv7o/kn/df+d/+f/TwDKAFIB5gF2AuICBgPhAokCDAJsAbcAGQCr/1n/Cv+1/mz+SP5a/pn+5/4z/4T/5P9FAI8AuwDpAEIBzAFiAtkCLAN1A8oDIARUBEsEDATJA7YD1APzA9gDYgOmAuIBPwG1ADAAuv9t/1T/S/8a/7L+M/7A/WP9Gv3t/PP8P/3B/VL+1/5P/6v/xf+I/xD/nf5m/l7+Q/7g/Uf9wPyI/Jr8w/zT/Lb8cfwe/Or7+Ps//Iv8q/yh/Jv8zPxO/R/+Hf8QANEAaAEEAsUClQNBBKYEvgSkBIoEmwTWBBUFPQVfBZkF6QUgBg8GqgUFBTEEPAM7AkABSQBR/1v+gf3b/HT8QPwi/AT85fvd+/b7I/xI/GT8hfy2/PX8R/2y/Tj+0P5t//v/aQDGADYByQFfAsoCAQMhA0cDfAO+AwUEQQROBAQETQMtAsUAVf8c/kf92Pyk/HX8MPzo+7T7lfuF+3j7aPtW+1P7ePvN+zX8k/zy/Hz9P/4S/8P/UADrALABjAJgAzMEJAU+Bl4HRAjHCPoIFwk7CTwJ8ghiCKsH1wbUBYoE/QJNAaD/Bv5y/NH6Lfmv94v21PVj9fT0YPTC817zY/PB8yT0IvRs8+vxo++57K3peOcz55zp2e5i9ib/AghVECAYiB9gJissfTApM040VTTJMwgzBTJjMNAtUypQJhkiUB0MF/sO/QUq/Wv0cOov3ovQGcQ1u5i2yrVauCO+pMar0LraV+ML6Ybq/OaR3nTSh8TmtrSr66QKpKqpgrXRxqbcx/WYEBkrF0O9ViZlZW4Ic61z+nCpa2hku1vwUSNHcTstL/4ipxfYDRQGpgCX/ar8d/1x//IBUAT0BX0GyQXoAwYBa/1Z+fn0W/CW69zmZeJV3sDaxteg1aHU/dSb1i7Zatwj4CLkFeih64zu0PCQ8vbzM/Vw9sD3IPmX+jT8/v3p/+8BGgRWBl0I5wnrCq4LeAxWDR0Opw4GD2UP3A9UEJwQkhA3EJYPsw6MDSkMlgraCAUHLgVnA7YBHACU/g79evvf+Vb4/vbe9eP07vPt8vnxMPGj8FHwQfCI8DzxXfLV84P1RfcD+an6KPx3/Z3+pv+WAHQBTQIkA+cDhAT7BGUF3gVzBh0H0weQCE4JBQqxClML3ws5DFEMOQwXDAwMIAxIDHEMfwxZDPALTwuMCrgJ3ggICDwHdQagBbQEtQOoAogBQQDP/jj9g/u2+db39/VF9OvyAfJ+8UvxW/Gt8T3y8fKo80300PQc9Sj1EfUF9Sf1gvUW9uH23fcF+VX60/t+/UT/EQHMAlUEmwWxBrYHsgiOCR4KPwrmCSsJSAh1B84GVAb9BcMFogWOBXEFNQXRBFIEyAM6A6AC+wFiAegAjwBQACQABwD2/+//7f/q/+b/4v/Z/7n/af/d/hb+KP08/H37Dfvt+gD7LPtu+7z78fvp+5f7FfuM+iL68PkE+mr6IfsT/Av9yf0l/iL+4f2J/UH9Ov2m/Zv+AACRAQEDFQS9BAgFDAXeBJQESgQVBP0D+gP6A+4DzAOYA18DMQMXAw0D/wLjAsICrQKxAtMCCgM7A0oDHwO0AhQCYwHQAHcASAAUAMX/Z/8M/7n+eP5Y/mD+ev6J/oL+av49/vX9n/1f/Uz9Y/2S/dz9U/73/rb/eAAnAaMBywGbAS8BrAAlAKX/Q/8h/0L/hP+7/9n/7f8AABMAIwA6AFsAcwBuAEYACQC5/1P/4v58/in+3v2S/Un9Dv3q/OD85Pzi/M/8tPyg/Jv8ovyz/NT8Cv1a/cb9V/4V//D/vgBmAfEBdQL3AnID4QNMBMQESAXEBRsGQAYyBvEFfwXkBCwEawO4AhkCjAERAacAPwDR/2X/Cv/F/pf+ff5x/mn+Wf4w/tz9Uv2Z/Mv7CPtm+ur5l/l3+ZT55/le+vH6nPtb/Cf9AP7j/sr/qwB9ATQC1AJoA/IDZwS/BAEFNgVmBZYFvgXLBbgFmwWPBZEFggVHBdIEIAQ1Ax0C/QD9/yf/cv7b/W79M/0h/SP9IP0S/QH9BP0j/U39aP1q/WL9Wv1X/Wf9mf3i/Rj+Gf7p/aT9X/0m/QD99PwK/Uj9sP1Y/lP/gQBsAVoBtf/N/OT5oPcy9VTyV/Hk9bwBlxIbI3AuDzM0MlIt9yTCGWINzQHj927vf+gD5PLiE+XX6B/sTu3U6y3oeOPn3lHbHtmG2M/ZPd3Y4knq1/KK+3kDGApJDzcTJBZeGC8axhtBHawe4h+UIIcgsh8rHhgcshlHFxQVJRNcEZQPrQ2UC0oJ4waDBEUCKgAt/lb8tvpY+Tz4Wveb9ub1PfWp9CT0nvMQ833y3fEZ8S3wL+9F7o/tJe0B7fjsz+xh7LPr9equ6uDrne8R9sj9lwR0Cd4Mkg+QEV4SvRHqD3MN4AplCOgFTAOoADf+PvwX+xP7MPwC/tr/FQFUAYsAB/82/Xr7GvpC+QH5Tfko+qT7z/2eAOEDRQeBCnoNKRBuEhEU8xQvFf0UfRSyE5ISEREnD9EMJApNB4YE/wHY/w/+l/xS+xT6qvj49hf1Q/Ot8WXwW++F7vPtye0c7tzu0+/N8Lbxq/LX81L1/vaZ+Nz5nfrt+i/7TPx3/wUFxQvzEX8WPRlVGtAZsRchFIsPigqyBV8Brv2l+lD4sfa19S/1+PQB9Uj1wPVY9hL3/fcm+Yv6IPza/br/twGxA3AFxgacBwAIFAgMCBcISAiMCL8ItwhICFUH7gVJBKICJgHz/xj/kf5K/ir+If4k/iP+DP7P/Wn94/xP/Lz7OfvL+mn6Bvqo+V35KvkK+fz4Cfky+XT5yfku+q36XPs8/Dj9Nf4v/y4ANgEuAvcCgQPQA+4D5wPJA6sDogO0A9kDBwQ0BGQEoQTwBDkFVAUjBa0EHgShA0ID/gLKAqUChwJhAjAC/QHaAdEB2AHZAcIBjgE6AcIAKwCI//X+hv44/vb9q/1U/QD9vPyT/Ib8g/xs/Cr8u/sp+3/60vku+ZD4+Pd/90v3c/fs9534dPls+pH75vxh/u3/fwEMA4kE9AVNB4sIkAlBCpEKkApdChcKzgmGCUIJAQmoCA8IJQf7BbwEiAN3AqMBGQHDAGsA5P8W/wH+svxK+/b52fj891z3A/f99kj3zfd4+D35GfoF++37t/xM/av96P0b/kr+Z/5o/lr+Vv58/uH+iv9iAEMBDgKyAhkDKgPzAqECVgIOAr4BcAEzAQIB0ACeAIEAiwC2AOMA7QC5AEcAuP9E/xX/Lf+G//v/FwCa/wj/Ff+z/0kAkgDeAJkB0AJJBNEFSgeXCI8JCArtCUcJLwi5Bv4EIgNcAdH/hv5v/YX8yfs2+776Vfr9+cv51vko+rz6kvub/LH9qf5r//T/NQAUAIj/rP65/eX8Sfzh+5H7Pvvs+rD6n/rE+iT7wPuN/Hj9Z/5F/wIAlwD9AC8BMgEaAf8A5wDRAMwA9wBdAdkBMgJCAgMCiQHzAFoA0f9z/1//oP8eALYASgHPAUMCqAIIA2oDzAMuBJME8gQuBTEFCgXbBLQEhQQ0BLcDFANSAnYBhACL/6X++v2c/YH9j/21/eL9/v33/dX9r/2b/ab90P0S/lr+lf67/t7+FP9l/73/CQA/AFgAUQApAPH/tf94/z3/FP8a/1b/sv8NAFsAowDtACcBIQHGADUArP9Q/yD/Bf/s/tH+uf6m/of+Tf4A/rv9h/1a/Tz9Rv2F/ev9Y/7p/oP/NADrAI8BHAKVAvYCMgNBAyMD4gKRAkYCEALlAbsBlAF0AVEBHQHTAIQAQAAUAA8AQQCvAEABvgH4AeEBjAEMAWwAtv/7/ln+4v2S/V79Pv0t/S79Q/1u/aX93v0R/in+//18/cH8CPx++zH7JPtn+/770vy5/Zf+Xf8GAJ8AMgHFAVUC2wJPA6QDzQPQA8wD1wP6A0AEsgRBBcMFCAYEBswFfAUnBdwEngRjBBIElgPhAvkB8ADl//3+VP7o/Zz9Tf3m/Gr88Pue+5f74ftZ/Mz8Df0G/bP8KPyJ+wf7w/rG+gT7cfsM/M38pv2Q/pX/sADLAdMCzQOzBFkFgAULBRkE5wKnAYUAnf/t/mr+Ev7n/df9vv18/Rf9svxq/Dr8D/zo+9r78fsg/Fr8pPwI/Yf9E/6f/iP/mP/7/0sAkwDmAFcB5wGGAhwDnAMRBIoEEwWsBU0G8waYBzIItAgKCS8JNgkyCS4JJAn7CJkI8wcPB/cFqgQUAyUB5/6V/Hv6tPge95j1H/TH8q3x7fCV8InwlfCb8KTwqPBZ8FbvlO2O6yHqVOoR7bLytvrTA6sMbRQDG6QgXCX0KDArGCwFLG8rryrQKYgoZCb5Ih4e7RenELIIqgA8+fDyJO7d6njouuWH4ajb3tQ4zmPIwsPnwJ/Aq8NrynHUTuDt62H1d/vB/VL8iPcH8N3mjd3U1TnR2tBa1c7eiew5/VEPbiF5Mq5BgE5yWAZf5GEkYUtd9FaaToxEBjlhLDEfMRIeBqX7V/Og7avqUOof7IHv2/OT+A/9tgAbAxAEqwMdApX/RPxr+FT0P/BW7KnoPuUe4l7fIt2Z2/faatv93JHf9eLn5h/rSO8K8yn2m/hx+rz7ifz1/CP9N/1X/av9V/5n/8cAVwLzA30F4QYTCAwJyQlHCo8KvQr9CmsLAgymDDkNpg3jDe0Nxw1zDfkMaQzOCykLegrACfYIFggjByAGDwX1A8kCdAHq/zL+bPzC+lf5Lvgp9zD2Q/V89Ozzk/N3867zQfQd9Rf2Dffj9434Cvlj+ar5/Plm+uf6ePsi/On8x/3B/tr/BAElAh0D4gOJBCoFwwVBBqQG9AYyB1kHawdyB3YHiQe+Bx4InwguCa4JBwooChIK3QmfCVMJ3QgzCGsHpgb1BUsFgAR9A1ACHAHv/8T+nf2H/IX7jPqD+Vz4H/fq9eH0HPSt85Xzw/Mf9Jr0QfUw9mn3zfg8+q37G/1s/nv/NACjAOAA/gAGAQYBEwE0AV4BgAGIAWYBGAGjACAAtv+A/3//of/Y/xwAbQDQAEYBvAEWAkwCfALQAkwDyAMOBAwEzwNkA9kCPgKmARIBeADe/1T/6P6Z/lT+Cf66/Xb9Uv1a/Y/99P2V/oD/pwDsASUDLwTlBC8FCwWWBPQDPwOBAr8BBQFjAOn/kP9M/xb/7P7I/pf+TP77/dD97f1E/rL+Ef9A/yn/2v6E/lT+UP5j/nb+fv6A/oj+pf7U/gr/Sv+g/wkAZwCcAKUAjwBbAAMAkv8b/6X+LP6z/VL9Gv0H/QH98/zV/KT8Xvzv+1n7Mvt9/FT/ZAJSBOoEzgSJBDcExgNHA/MC+QJfAwcEyQSBBQ0GTwY2BskFJwVuBKoD3wIVAlwBvQBCAPb/2f/S/73/jv9N/wT/rv5Q/gP+0v2n/WT9Df2x/Fj8BfzG+7j77vtX/MT8E/0//Vj9af13/Y79x/0//vn+5v/wAPIBuwIlAysD4wJyAgMCuAGmAcsBGAJ0AsQC5ALBAmYC6gFkAd4AVAC+/yP/kP4L/pz9Tf0i/Rb9HP0h/Rb9Bf0N/Tb9av2R/a79y/3m/fr9DP4r/mP+vP44/8z/aQAEAZEBDQJ4As0CBwMoAzMDLAMVA/YC0QKsApYCnAK9AucCAwMEA/IC4wLpAggDNANPAz0D9wKOAhUCkgEKAYsAJwDa/43/LP+s/gr+Sf14/LP7Ifvj+vP6Kvtr+7P7DPx//AP9g/3b/e79wf17/T79Dv3t/NT8ufym/LL85Pwt/Xj9vv0L/mr+3P5e//j/tAB9AR0CaQJnAkoCRAJYAl4CPwImAmUCCwOEA7UCBQBU/CX5rfb48z3x6fAk9l4CuxPEJUo0cD3lQC0+pDQqJeESxwGE9JvrdOaF5GLlBOiJ6vjqYehE4wvdHtdb0iLPts1wzrjRxNdR4Hnq5PRG/sEFCQtSDi0QQxEgEhATKBRdFZ0W1xftGLUZGRopGgka1RmWGUMZ0xgzGEYX6hUPFL8REg8nDCcJPwaRAy8BE/8k/UT7Tvkl9+z0KfO58jn0Qfea+nL9q/8TAfIAlv4l+tn0OvAt7ZbruOrr6f3o/+cO52fmT+bc5u7nXOkY6yXteO/b8QP0vPUC9+f3l/ha+Xv6Ifw9/qgAWgNpBvcJCg5tErIWXxouHRUfNyC8IMoggiD1Hxsf3B0mHAAadBeLFFoRBQ6XCggHVAOO/9X7XvhZ9ePy/PCT75bu++297dHtJ+637nnvaPCD8cjyN/TE9V337fhg+qj7yvzV/dX+x/+dAFAB4gFbAsMCHQNaA2gDUgM0AyYDKgM8A1YDfwO5AwAEPQRQBBQEhgPNAhQCagHOADEAjf/h/jn+mP37/Gz89fuV+zf71/qI+mX6ePq8+iL7oPst/L/8TP3M/Uz+3v6K/0YACwHTAY8CMAOxAxcEaASjBMgE3ATlBOYE1wSzBH4EPgTuA34D2wIKAiYBVwC3/z//4P6a/n/+mP7U/hz/Zf+o/9v///8iAE8AdwB+AGQARAA8AEwAVwA2ANr/V//c/p3+rf71/kv/if+S/0v/pf6x/ZT8cftx+sP5f/mZ+ff5iPo2+/P7uPx//Tn+3P5r//b/fgD2AE8BlAHQAQMCJwJFAmgCkwLKAhQDbwPWA0kExAQ/BbcFLgaaBuQG9AbGBmYG5QVPBacE8wM6A4YC1gEcAVMAif/a/l/+Jv4x/nP+1v49/5X/2P8CAAgA1f9e/7X+A/5h/cv8K/x4+8X6N/ri+cP51vkc+o36BftX+2f7QfsO+/f6H/ui+4L8m/2w/pb/NgCWAMwA+gAtAVcBagF4AaUBBwKdAlMDAgR2BIIEEwQ/AzACDwH3//b+GP5n/fX8zfzp/DT9l/0S/qH+MP+p/w8AgAAMAakBMgKFAqUCtQLRAgEDQQOLA80D9wMIBBUELwRIBD0E9wOGAxkD1wK+AqwChwJLAv8BqgFSAfQAigAQAI//FP+1/nn+WP5D/jL+H/75/a79Qf3I/Fj88/uV+0D7/vrV+sj63voX+2z7z/s4/K/8SP0E/sf+e/8oAOEAqAF5AlUDNgT8BIsF7QU7Bl8GHAZkBWEEUwNXAmsBkADf/3T/Tf89/xP/vf5C/q/9CP1R/Ib7rPre+UP57vjb+AD5V/nf+ZT6dvuH/LP93P78/x0BQwJgA2METgUjBtoGZQe9B+YH8QfwB+0H3QetB0oHowa2BZMEVQMPAs0AoP+V/qv93vwr/JL7Fvu/+pL6hfp6+l36MPoD+uf58Pkj+nv65vpO+6/7HPyt/Gv9Tf48/w8AqAAEAUIBgQHOASECeQLYAkQDvgNHBNwEawXcBSEGMgYTBs8FZwXRBAEE/wLhAbQAg/9W/j79TvyS+xH7yPqz+tb6Kfub+yL8w/yA/VD+KP/4/6cAKwGHAcYB8gEYAkgCjgLjAjADZQOGA5kDlQNsAxoDpgIbAoMB2wAfAF3/of7o/Sr9cfzP+0n73vqT+nP6hPrB+iH7m/sn/L38Wf34/aL+VP8BAKUARgHvAZ0CPAO6AxMEVQSIBKoEugS1BJQEUATsA3ID6wJQAosBggA1/9f9tPzs+1P7ofq6+cf49Pc/95D25vVY9eH0S/RS8/Pxn/AU8Avx5POa+M/+1QXmDF4TABnsHVciSSaOKeArIy18LSItLiyVKjYo6SSUIDob2RRsDSQFkPxw9DTtqeZP4PvZ9dN5znTJpsTWv9q6yLUWsZOtH6xxrQ+yVbpmxgzWp+j+/CkRBiPiMMc5Yz3RO4k1dCsIH/0R1AX7+wf2VfVc+mYEzhGcIBUv/Dt9RvxN+FEXUj1Om0aqOysuGB+JD4oA/vKV58ze3tjK1WjVf9e826DhgeiV7wj2G/tA/jr/IP5G+yP3O/IR7RTomePt32fdT9zJ3N/emeL358/uwfZA/6wHWQ+dFfcZMBxiHNUa1xe1E8wOiQlNBGD/8Poi9xX07/HV8NHw0fGl8wf2tPiB+1T+CwF0A2MFxQaiBxAIJgj8B6wHVgcWB+0GywaZBkoG2wVSBb8EPwToA7cDjgNUAwQDoQIwAr4BUwHhAE8Alv+w/pn9TPzq+rH5z/hD+PH3vveh9673/PeI+Dz5Bvrl+g==\" type=\"audio/wav\" />\n",
              "                    Your browser does not support the audio element.\n",
              "                </audio>\n",
              "              "
            ],
            "text/plain": [
              "<IPython.lib.display.Audio object>"
            ]
          },
          "metadata": {
            "tags": []
          },
          "execution_count": 20
        }
      ]
    },
    {
      "cell_type": "markdown",
      "metadata": {
        "id": "BwUjZ8rz-CsJ",
        "colab_type": "text"
      },
      "source": [
        "# Feature Extraction (another two)"
      ]
    },
    {
      "cell_type": "code",
      "metadata": {
        "id": "HZu7EmQr-IEP",
        "colab_type": "code",
        "colab": {}
      },
      "source": [
        "def distrubusi_energi(a,b,coefficient):\n",
        "  result=[]\n",
        "  for skala in range(coefficient.shape[0]):\n",
        "    #lakukan proses integral metode quad\n",
        "    [buffer,error]=integrate.quad(lambda x:Especific[-skala],0,coefficient.shape[1])\n",
        "    result.append(buffer)\n",
        "\n",
        "\n",
        "  P=np.divide(Especific,result)\n",
        "  logP=np.log10(P)\n",
        "  Fungsi=np.multiply(P,logP)\n",
        "\n",
        "  #lakukan proses integrasi menggunakan metode trapesium\n",
        "  return (-numpy.trapz(Fungsi,dx=0.01))\n",
        "\n",
        "def shannonEntropy(Especific):\n",
        "  shannon_entropy=-np.sum(np.dot(Especific,np.log(Especific)))\n",
        "  return shannon_entropy\n",
        "\n",
        "def energy_wavelet(coefficient_wavelet):\n",
        "  pass"
      ],
      "execution_count": null,
      "outputs": []
    },
    {
      "cell_type": "code",
      "metadata": {
        "id": "CVqGvayRGMPX",
        "colab_type": "code",
        "colab": {
          "base_uri": "https://localhost:8080/",
          "height": 35
        },
        "outputId": "1cb20a7a-a505-415c-c0a5-22a82cfc2826"
      },
      "source": [
        "#try to implement PCA\n",
        "from sklearn.decomposition import PCA\n",
        "pca = PCA(130) #mengambil hanya 95% data penting saja\n",
        "pca.fit(coefficient)\n",
        "print(pca.transform(coefficient).shape)"
      ],
      "execution_count": null,
      "outputs": [
        {
          "output_type": "stream",
          "text": [
            "(130, 130)\n"
          ],
          "name": "stdout"
        }
      ]
    },
    {
      "cell_type": "code",
      "metadata": {
        "colab_type": "code",
        "id": "lRmv8Q9q-VsK",
        "colab": {
          "base_uri": "https://localhost:8080/",
          "height": 68
        },
        "outputId": "bbb16064-09c4-4fd2-d5b6-0802ca0fb1bc"
      },
      "source": [
        "#energy wavelet\n",
        "Especific=[]\n",
        "energy=0\n",
        "for skala in range(coefficient.shape[0]):\n",
        "  buffer=0\n",
        "  buffer=np.sum(np.array(coefficient[-skala])**2)\n",
        "  energy=energy+buffer\n",
        "  Especific.append(buffer)\n",
        "\n",
        "print(energy) #fungsi diatas udah bener\n",
        "\n",
        "print(Especific) #ini udah bener\n",
        "\n",
        "#relative wavelet energy\n",
        "print(np.sum(np.divide(Especific,energy))) #sigma detail energi dibanding energy overall harus sama dengan 1"
      ],
      "execution_count": null,
      "outputs": [
        {
          "output_type": "stream",
          "text": [
            "0.16113174799829721\n",
            "[0.0010160496, 0.12548646, 0.0275349, 0.007094335]\n",
            "0.99999994\n"
          ],
          "name": "stdout"
        }
      ]
    },
    {
      "cell_type": "code",
      "metadata": {
        "id": "YfYIvlp6g8kB",
        "colab_type": "code",
        "colab": {
          "base_uri": "https://localhost:8080/",
          "height": 34
        },
        "outputId": "e2d79285-6dc9-4beb-faa7-c3cb58ad1861"
      },
      "source": [
        "#Distribusi energi temporal\n",
        "import scipy.integrate as integrate\n",
        "import numpy\n",
        "result=[]\n",
        "for skala in range(coefficient.shape[0]):\n",
        "  [buffer,error]=integrate.quad(lambda x:Especific[-skala],0,coefficient.shape[1])\n",
        "  result.append(buffer)\n",
        "\n",
        "\n",
        "P=np.divide(Especific,result)\n",
        "logP=np.log10(P)\n",
        "Fungsi=np.multiply(P,logP)\n",
        "print(-numpy.trapz(Fungsi,dx=0.01))"
      ],
      "execution_count": null,
      "outputs": [
        {
          "output_type": "stream",
          "text": [
            "5.483200742495244e-05\n"
          ],
          "name": "stdout"
        }
      ]
    },
    {
      "cell_type": "code",
      "metadata": {
        "id": "vx8VrsKnssh6",
        "colab_type": "code",
        "colab": {
          "base_uri": "https://localhost:8080/",
          "height": 34
        },
        "outputId": "2a5a7898-6370-4d3c-fa75-4d230dc0e0be"
      },
      "source": [
        "# normalisasi\n",
        "filtered=filtered-np.mean(filtered)\n",
        "filtered=np.divide(filtered,np.max(np.absolute(filtered)))\n",
        "print(np.max(filtered),np.min(filtered))"
      ],
      "execution_count": null,
      "outputs": [
        {
          "output_type": "stream",
          "text": [
            "0.9219859692694933 -1.0\n"
          ],
          "name": "stdout"
        }
      ]
    },
    {
      "cell_type": "code",
      "metadata": {
        "id": "4aWrMqiV0pko",
        "colab_type": "code",
        "colab": {}
      },
      "source": [
        "#multiscale  entropy\n",
        "from pyentrp import entropy as ent\n",
        "import numpy as np\n",
        "\n",
        "sample_entropy = ent.multiscale_entropy(filtered, 2, 0.25 ,maxscale=20)"
      ],
      "execution_count": null,
      "outputs": []
    },
    {
      "cell_type": "code",
      "metadata": {
        "id": "FTXi5znsszjJ",
        "colab_type": "code",
        "colab": {
          "base_uri": "https://localhost:8080/",
          "height": 265
        },
        "outputId": "77ebe036-0e1b-4dec-f67c-36d4aa9cc51b"
      },
      "source": [
        "#plot entropy terhadap skala\n",
        "mscale=np.arange(0,20)\n",
        "\n",
        "import matplotlib.pyplot as plt\n",
        "plt.plot(mscale,sample_entropy)\n",
        "plt.ylabel('Entropy')\n",
        "plt.show()"
      ],
      "execution_count": null,
      "outputs": [
        {
          "output_type": "display_data",
          "data": {
            "image/png": "[encoded data removed]",
            "text/plain": [
              "<Figure size 432x288 with 1 Axes>"
            ]
          },
          "metadata": {
            "tags": [],
            "needs_background": "light"
          }
        }
      ]
    }
  ]
}